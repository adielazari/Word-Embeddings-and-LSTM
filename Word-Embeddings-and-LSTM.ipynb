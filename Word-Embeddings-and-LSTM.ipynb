{
  "nbformat": 4,
  "nbformat_minor": 0,
  "metadata": {
    "colab": {
      "name": "ass3_deep_learnning_4.ipynb",
      "provenance": [],
      "collapsed_sections": []
    },
    "kernelspec": {
      "name": "python3",
      "display_name": "Python 3"
    },
    "accelerator": "GPU"
  },
  "cells": [
    {
      "cell_type": "code",
      "metadata": {
        "id": "hZn0hxp2M89j",
        "colab_type": "code",
        "outputId": "7b9efbac-5c5e-4b5c-e6d6-570e05afc3ba",
        "colab": {
          "base_uri": "https://localhost:8080/",
          "height": 125
        }
      },
      "source": [
        "from google.colab import drive\n",
        "drive.mount('/content/drive')"
      ],
      "execution_count": 2,
      "outputs": [
        {
          "output_type": "stream",
          "text": [
            "Go to this URL in a browser: https://accounts.google.com/o/oauth2/auth?client_id=947318989803-6bn6qk8qdgf4n4g3pfee6491hc0brc4i.apps.googleusercontent.com&redirect_uri=urn%3aietf%3awg%3aoauth%3a2.0%3aoob&response_type=code&scope=email%20https%3a%2f%2fwww.googleapis.com%2fauth%2fdocs.test%20https%3a%2f%2fwww.googleapis.com%2fauth%2fdrive%20https%3a%2f%2fwww.googleapis.com%2fauth%2fdrive.photos.readonly%20https%3a%2f%2fwww.googleapis.com%2fauth%2fpeopleapi.readonly\n",
            "\n",
            "Enter your authorization code:\n",
            "··········\n",
            "Mounted at /content/drive\n"
          ],
          "name": "stdout"
        }
      ]
    },
    {
      "cell_type": "code",
      "metadata": {
        "id": "iUT_gIj1NfH4",
        "colab_type": "code",
        "colab": {}
      },
      "source": [
        "import pandas as pd\n",
        "train_data=pd.read_csv('/content/drive/My Drive/word embedding/train.csv',index_col='id',encoding='Latin-1')\n",
        "test_data=pd.read_csv('/content/drive/My Drive/word embedding/test.csv',index_col='id', encoding='Latin-1')\n",
        "test_data = test_data[test_data['relevance']!=-1]"
      ],
      "execution_count": 0,
      "outputs": []
    },
    {
      "cell_type": "markdown",
      "metadata": {
        "id": "O3PndPxuPJQF",
        "colab_type": "text"
      },
      "source": [
        "#Pre processing"
      ]
    },
    {
      "cell_type": "markdown",
      "metadata": {
        "id": "BF87QbIyMzEB",
        "colab_type": "text"
      },
      "source": [
        "Clean sentances - without stop words and with stemming  "
      ]
    },
    {
      "cell_type": "code",
      "metadata": {
        "id": "EVjit9sCODd4",
        "colab_type": "code",
        "outputId": "c8050365-f860-4912-8099-feee79a8e509",
        "colab": {
          "base_uri": "https://localhost:8080/",
          "height": 52
        }
      },
      "source": [
        "import nltk\n",
        "from nltk.corpus import stopwords \n",
        "from nltk.stem import PorterStemmer\n",
        "\n",
        "nltk.download('stopwords')\n",
        "sw=stopwords.words('english')\n",
        "ps = PorterStemmer()\n",
        "def stop_words(data):\n",
        "  toReturn=''\n",
        "  for word in data.split(' '):\n",
        "    if word.lower() not in sw:\n",
        "      toReturn = toReturn + ps.stem(word.lower()) + ' '\n",
        "  return toReturn.strip()\n",
        "def clean_sentance(df):\n",
        "  data=df.copy()\n",
        "  data['product_title']=data['product_title'].apply(lambda x: stop_words(x))\n",
        "  data['search_term']=data['search_term'].apply(lambda x: stop_words(x))\n",
        "  return data"
      ],
      "execution_count": 4,
      "outputs": [
        {
          "output_type": "stream",
          "text": [
            "[nltk_data] Downloading package stopwords to /root/nltk_data...\n",
            "[nltk_data]   Unzipping corpora/stopwords.zip.\n"
          ],
          "name": "stdout"
        }
      ]
    },
    {
      "cell_type": "code",
      "metadata": {
        "id": "FYKKfioPQK_k",
        "colab_type": "code",
        "colab": {}
      },
      "source": [
        "def split_to_chars(df):\n",
        "  data=df.copy()\n",
        "  data['product_title']=data['product_title'].apply(lambda x: [char for char in x if char != ' '])\n",
        "  data['search_term']=data['search_term'].apply(lambda x: [char for char in x if char != ' '])\n",
        "  return data"
      ],
      "execution_count": 0,
      "outputs": []
    },
    {
      "cell_type": "code",
      "metadata": {
        "id": "_l8aOwpsU7NB",
        "colab_type": "code",
        "outputId": "60868eb3-3463-442d-e45e-6790124ae5d0",
        "colab": {
          "base_uri": "https://localhost:8080/",
          "height": 448
        }
      },
      "source": [
        "train_data"
      ],
      "execution_count": 0,
      "outputs": [
        {
          "output_type": "execute_result",
          "data": {
            "text/html": [
              "<div>\n",
              "<style scoped>\n",
              "    .dataframe tbody tr th:only-of-type {\n",
              "        vertical-align: middle;\n",
              "    }\n",
              "\n",
              "    .dataframe tbody tr th {\n",
              "        vertical-align: top;\n",
              "    }\n",
              "\n",
              "    .dataframe thead th {\n",
              "        text-align: right;\n",
              "    }\n",
              "</style>\n",
              "<table border=\"1\" class=\"dataframe\">\n",
              "  <thead>\n",
              "    <tr style=\"text-align: right;\">\n",
              "      <th></th>\n",
              "      <th>product_uid</th>\n",
              "      <th>product_title</th>\n",
              "      <th>search_term</th>\n",
              "      <th>relevance</th>\n",
              "    </tr>\n",
              "    <tr>\n",
              "      <th>id</th>\n",
              "      <th></th>\n",
              "      <th></th>\n",
              "      <th></th>\n",
              "      <th></th>\n",
              "    </tr>\n",
              "  </thead>\n",
              "  <tbody>\n",
              "    <tr>\n",
              "      <th>2</th>\n",
              "      <td>100001</td>\n",
              "      <td>Simpson Strong-Tie 12-Gauge Angle</td>\n",
              "      <td>angle bracket</td>\n",
              "      <td>3.00</td>\n",
              "    </tr>\n",
              "    <tr>\n",
              "      <th>3</th>\n",
              "      <td>100001</td>\n",
              "      <td>Simpson Strong-Tie 12-Gauge Angle</td>\n",
              "      <td>l bracket</td>\n",
              "      <td>2.50</td>\n",
              "    </tr>\n",
              "    <tr>\n",
              "      <th>9</th>\n",
              "      <td>100002</td>\n",
              "      <td>BEHR Premium Textured DeckOver 1-gal. #SC-141 ...</td>\n",
              "      <td>deck over</td>\n",
              "      <td>3.00</td>\n",
              "    </tr>\n",
              "    <tr>\n",
              "      <th>16</th>\n",
              "      <td>100005</td>\n",
              "      <td>Delta Vero 1-Handle Shower Only Faucet Trim Ki...</td>\n",
              "      <td>rain shower head</td>\n",
              "      <td>2.33</td>\n",
              "    </tr>\n",
              "    <tr>\n",
              "      <th>17</th>\n",
              "      <td>100005</td>\n",
              "      <td>Delta Vero 1-Handle Shower Only Faucet Trim Ki...</td>\n",
              "      <td>shower only faucet</td>\n",
              "      <td>2.67</td>\n",
              "    </tr>\n",
              "    <tr>\n",
              "      <th>...</th>\n",
              "      <td>...</td>\n",
              "      <td>...</td>\n",
              "      <td>...</td>\n",
              "      <td>...</td>\n",
              "    </tr>\n",
              "    <tr>\n",
              "      <th>221457</th>\n",
              "      <td>206638</td>\n",
              "      <td>Atlantic Windowpane 576 CD or 192 DVD Blu-Ray ...</td>\n",
              "      <td>tv riser glass</td>\n",
              "      <td>1.00</td>\n",
              "    </tr>\n",
              "    <tr>\n",
              "      <th>221458</th>\n",
              "      <td>206639</td>\n",
              "      <td>Philips 40-Watt Halogen R20 Flood Light Bulb (...</td>\n",
              "      <td>r20 halogen light</td>\n",
              "      <td>3.00</td>\n",
              "    </tr>\n",
              "    <tr>\n",
              "      <th>221463</th>\n",
              "      <td>206641</td>\n",
              "      <td>Schlage Camelot In-Active Aged Bronze Handlese...</td>\n",
              "      <td>schlage lock siena half dummy knob with</td>\n",
              "      <td>2.33</td>\n",
              "    </tr>\n",
              "    <tr>\n",
              "      <th>221471</th>\n",
              "      <td>206648</td>\n",
              "      <td>Plastec 11 in. x 24 in. Rose Garden Wall Decor...</td>\n",
              "      <td>zen garden  decor</td>\n",
              "      <td>3.00</td>\n",
              "    </tr>\n",
              "    <tr>\n",
              "      <th>221473</th>\n",
              "      <td>206650</td>\n",
              "      <td>LICHTENBERG Pool Blue No. 918 Millennial Ryan ...</td>\n",
              "      <td>fine sheer curtain 63 inches</td>\n",
              "      <td>2.33</td>\n",
              "    </tr>\n",
              "  </tbody>\n",
              "</table>\n",
              "<p>74067 rows × 4 columns</p>\n",
              "</div>"
            ],
            "text/plain": [
              "        product_uid  ... relevance\n",
              "id                   ...          \n",
              "2            100001  ...      3.00\n",
              "3            100001  ...      2.50\n",
              "9            100002  ...      3.00\n",
              "16           100005  ...      2.33\n",
              "17           100005  ...      2.67\n",
              "...             ...  ...       ...\n",
              "221457       206638  ...      1.00\n",
              "221458       206639  ...      3.00\n",
              "221463       206641  ...      2.33\n",
              "221471       206648  ...      3.00\n",
              "221473       206650  ...      2.33\n",
              "\n",
              "[74067 rows x 4 columns]"
            ]
          },
          "metadata": {
            "tags": []
          },
          "execution_count": 5
        }
      ]
    },
    {
      "cell_type": "code",
      "metadata": {
        "id": "yo5FT8IkRb-d",
        "colab_type": "code",
        "colab": {}
      },
      "source": [
        "train=clean_sentance(train_data)\n",
        "test=clean_sentance(test_data)\n"
      ],
      "execution_count": 0,
      "outputs": []
    },
    {
      "cell_type": "code",
      "metadata": {
        "id": "zck_xS8BTjiJ",
        "colab_type": "code",
        "outputId": "12e0ae3e-5fe0-416c-9259-ed64b473f8c0",
        "colab": {
          "base_uri": "https://localhost:8080/",
          "height": 448
        }
      },
      "source": [
        "train"
      ],
      "execution_count": 0,
      "outputs": [
        {
          "output_type": "execute_result",
          "data": {
            "text/html": [
              "<div>\n",
              "<style scoped>\n",
              "    .dataframe tbody tr th:only-of-type {\n",
              "        vertical-align: middle;\n",
              "    }\n",
              "\n",
              "    .dataframe tbody tr th {\n",
              "        vertical-align: top;\n",
              "    }\n",
              "\n",
              "    .dataframe thead th {\n",
              "        text-align: right;\n",
              "    }\n",
              "</style>\n",
              "<table border=\"1\" class=\"dataframe\">\n",
              "  <thead>\n",
              "    <tr style=\"text-align: right;\">\n",
              "      <th></th>\n",
              "      <th>product_uid</th>\n",
              "      <th>product_title</th>\n",
              "      <th>search_term</th>\n",
              "      <th>relevance</th>\n",
              "    </tr>\n",
              "    <tr>\n",
              "      <th>id</th>\n",
              "      <th></th>\n",
              "      <th></th>\n",
              "      <th></th>\n",
              "      <th></th>\n",
              "    </tr>\n",
              "  </thead>\n",
              "  <tbody>\n",
              "    <tr>\n",
              "      <th>2</th>\n",
              "      <td>100001</td>\n",
              "      <td>simpson strong-ti 12-gaug angl</td>\n",
              "      <td>angl bracket</td>\n",
              "      <td>3.00</td>\n",
              "    </tr>\n",
              "    <tr>\n",
              "      <th>3</th>\n",
              "      <td>100001</td>\n",
              "      <td>simpson strong-ti 12-gaug angl</td>\n",
              "      <td>l bracket</td>\n",
              "      <td>2.50</td>\n",
              "    </tr>\n",
              "    <tr>\n",
              "      <th>9</th>\n",
              "      <td>100002</td>\n",
              "      <td>behr premium textur deckov 1-gal. #sc-141 tugb...</td>\n",
              "      <td>deck</td>\n",
              "      <td>3.00</td>\n",
              "    </tr>\n",
              "    <tr>\n",
              "      <th>16</th>\n",
              "      <td>100005</td>\n",
              "      <td>delta vero 1-handl shower faucet trim kit chro...</td>\n",
              "      <td>rain shower head</td>\n",
              "      <td>2.33</td>\n",
              "    </tr>\n",
              "    <tr>\n",
              "      <th>17</th>\n",
              "      <td>100005</td>\n",
              "      <td>delta vero 1-handl shower faucet trim kit chro...</td>\n",
              "      <td>shower faucet</td>\n",
              "      <td>2.67</td>\n",
              "    </tr>\n",
              "    <tr>\n",
              "      <th>...</th>\n",
              "      <td>...</td>\n",
              "      <td>...</td>\n",
              "      <td>...</td>\n",
              "      <td>...</td>\n",
              "    </tr>\n",
              "    <tr>\n",
              "      <th>221457</th>\n",
              "      <td>206638</td>\n",
              "      <td>atlant windowpan 576 cd 192 dvd blu-ray game m...</td>\n",
              "      <td>tv riser glass</td>\n",
              "      <td>1.00</td>\n",
              "    </tr>\n",
              "    <tr>\n",
              "      <th>221458</th>\n",
              "      <td>206639</td>\n",
              "      <td>philip 40-watt halogen r20 flood light bulb (1...</td>\n",
              "      <td>r20 halogen light</td>\n",
              "      <td>3.00</td>\n",
              "    </tr>\n",
              "    <tr>\n",
              "      <th>221463</th>\n",
              "      <td>206641</td>\n",
              "      <td>schlage camelot in-act age bronz handleset lef...</td>\n",
              "      <td>schlage lock siena half dummi knob</td>\n",
              "      <td>2.33</td>\n",
              "    </tr>\n",
              "    <tr>\n",
              "      <th>221471</th>\n",
              "      <td>206648</td>\n",
              "      <td>plastec 11 in. x 24 in. rose garden wall decor...</td>\n",
              "      <td>zen garden  decor</td>\n",
              "      <td>3.00</td>\n",
              "    </tr>\n",
              "    <tr>\n",
              "      <th>221473</th>\n",
              "      <td>206650</td>\n",
              "      <td>lichtenberg pool blue no. 918 millenni ryan he...</td>\n",
              "      <td>fine sheer curtain 63 inch</td>\n",
              "      <td>2.33</td>\n",
              "    </tr>\n",
              "  </tbody>\n",
              "</table>\n",
              "<p>74067 rows × 4 columns</p>\n",
              "</div>"
            ],
            "text/plain": [
              "        product_uid  ... relevance\n",
              "id                   ...          \n",
              "2            100001  ...      3.00\n",
              "3            100001  ...      2.50\n",
              "9            100002  ...      3.00\n",
              "16           100005  ...      2.33\n",
              "17           100005  ...      2.67\n",
              "...             ...  ...       ...\n",
              "221457       206638  ...      1.00\n",
              "221458       206639  ...      3.00\n",
              "221463       206641  ...      2.33\n",
              "221471       206648  ...      3.00\n",
              "221473       206650  ...      2.33\n",
              "\n",
              "[74067 rows x 4 columns]"
            ]
          },
          "metadata": {
            "tags": []
          },
          "execution_count": 7
        }
      ]
    },
    {
      "cell_type": "code",
      "metadata": {
        "id": "fbhUUDehWckg",
        "colab_type": "code",
        "outputId": "b7c10653-2385-49dc-f857-01a2b7dc6643",
        "colab": {
          "base_uri": "https://localhost:8080/",
          "height": 81
        }
      },
      "source": [
        "from keras.preprocessing.text import Tokenizer\n",
        "from keras.preprocessing.sequence import pad_sequences\n",
        "from keras.layers import *\n",
        "from keras.models import Model\n",
        "from keras.optimizers import *"
      ],
      "execution_count": 6,
      "outputs": [
        {
          "output_type": "stream",
          "text": [
            "Using TensorFlow backend.\n"
          ],
          "name": "stderr"
        },
        {
          "output_type": "display_data",
          "data": {
            "text/html": [
              "<p style=\"color: red;\">\n",
              "The default version of TensorFlow in Colab will soon switch to TensorFlow 2.x.<br>\n",
              "We recommend you <a href=\"https://www.tensorflow.org/guide/migrate\" target=\"_blank\">upgrade</a> now \n",
              "or ensure your notebook will continue to use TensorFlow 1.x via the <code>%tensorflow_version 1.x</code> magic:\n",
              "<a href=\"https://colab.research.google.com/notebooks/tensorflow_version.ipynb\" target=\"_blank\">more info</a>.</p>\n"
            ],
            "text/plain": [
              "<IPython.core.display.HTML object>"
            ]
          },
          "metadata": {
            "tags": []
          }
        }
      ]
    },
    {
      "cell_type": "code",
      "metadata": {
        "id": "eAlSJPwEW1fT",
        "colab_type": "code",
        "colab": {}
      },
      "source": [
        "train_s1=train['product_title']\n",
        "train_s2=train['search_term']\n",
        "y=train['relevance']"
      ],
      "execution_count": 0,
      "outputs": []
    },
    {
      "cell_type": "code",
      "metadata": {
        "id": "7qz25MM9K9TL",
        "colab_type": "code",
        "outputId": "9b1e0766-ff11-4d76-a331-921bbd8683b1",
        "colab": {
          "base_uri": "https://localhost:8080/",
          "height": 246
        }
      },
      "source": [
        "train_s1"
      ],
      "execution_count": 0,
      "outputs": [
        {
          "output_type": "execute_result",
          "data": {
            "text/plain": [
              "id\n",
              "2                            simpson strong-ti 12-gaug angl\n",
              "3                            simpson strong-ti 12-gaug angl\n",
              "9         behr premium textur deckov 1-gal. #sc-141 tugb...\n",
              "16        delta vero 1-handl shower faucet trim kit chro...\n",
              "17        delta vero 1-handl shower faucet trim kit chro...\n",
              "                                ...                        \n",
              "221457    atlant windowpan 576 cd 192 dvd blu-ray game m...\n",
              "221458    philip 40-watt halogen r20 flood light bulb (1...\n",
              "221463    schlage camelot in-act age bronz handleset lef...\n",
              "221471    plastec 11 in. x 24 in. rose garden wall decor...\n",
              "221473    lichtenberg pool blue no. 918 millenni ryan he...\n",
              "Name: product_title, Length: 74067, dtype: object"
            ]
          },
          "metadata": {
            "tags": []
          },
          "execution_count": 10
        }
      ]
    },
    {
      "cell_type": "code",
      "metadata": {
        "id": "5cXrF02hK9Yg",
        "colab_type": "code",
        "outputId": "61f27869-9e28-4b7b-c659-00d0c23e2230",
        "colab": {
          "base_uri": "https://localhost:8080/",
          "height": 246
        }
      },
      "source": [
        "y"
      ],
      "execution_count": 0,
      "outputs": [
        {
          "output_type": "execute_result",
          "data": {
            "text/plain": [
              "id\n",
              "2         3.00\n",
              "3         2.50\n",
              "9         3.00\n",
              "16        2.33\n",
              "17        2.67\n",
              "          ... \n",
              "221457    1.00\n",
              "221458    3.00\n",
              "221463    2.33\n",
              "221471    3.00\n",
              "221473    2.33\n",
              "Name: relevance, Length: 74067, dtype: float64"
            ]
          },
          "metadata": {
            "tags": []
          },
          "execution_count": 11
        }
      ]
    },
    {
      "cell_type": "markdown",
      "metadata": {
        "id": "X6ZaYszCGCR1",
        "colab_type": "text"
      },
      "source": [
        "Replase symbols that appear fewer times with a placeholder"
      ]
    },
    {
      "cell_type": "code",
      "metadata": {
        "id": "osgtJdhE2m_I",
        "colab_type": "code",
        "outputId": "2ccc3573-4d1c-42cf-b46d-f27e4b417cd1",
        "colab": {
          "base_uri": "https://localhost:8080/",
          "height": 52
        }
      },
      "source": [
        "from collections import Counter\n",
        "unique_symbols = Counter()\n",
        "\n",
        "for _, message in train_s1.iteritems():\n",
        "    unique_symbols.update(message)\n",
        "    \n",
        "print(\"Unique symbols:\", len(unique_symbols))\n",
        "\n",
        "\n",
        "# Find symbols that appear fewer times than the threshold:\n",
        "\n",
        "uncommon_symbols = list()\n",
        "\n",
        "for symbol, count in unique_symbols.items():\n",
        "    if count < 5:\n",
        "        uncommon_symbols.append(symbol)\n",
        "\n",
        "print(\"Uncommon symbols:\", len(uncommon_symbols))\n",
        "\n",
        "\n",
        "# Replace them with a placeholder:\n",
        "\n",
        "DUMMY = uncommon_symbols[0]\n",
        "tr_table = str.maketrans(\"\".join(uncommon_symbols), DUMMY * len(uncommon_symbols))\n",
        "\n",
        "train_s1 = train_s1.apply(lambda x: x.translate(tr_table))\n",
        "\n",
        "\n",
        "# We will need the number of unique symbols further down when we will decide on the dimensionality of inputs.\n",
        "\n",
        "num_unique_symbols = len(unique_symbols) - len(uncommon_symbols) + 1 "
      ],
      "execution_count": 0,
      "outputs": [
        {
          "output_type": "stream",
          "text": [
            "Unique symbols: 75\n",
            "Uncommon symbols: 5\n"
          ],
          "name": "stdout"
        }
      ]
    },
    {
      "cell_type": "markdown",
      "metadata": {
        "id": "VesWaiGvOu6L",
        "colab_type": "text"
      },
      "source": [
        "Tokenizer of product_title feture by characters\n",
        "\n",
        "\n",
        "\n",
        "\n",
        "\n"
      ]
    },
    {
      "cell_type": "code",
      "metadata": {
        "id": "IBKP4TMHK9i_",
        "colab_type": "code",
        "colab": {}
      },
      "source": [
        "tokenizer = Tokenizer(\n",
        "    char_level=True,\n",
        "    filters=None,\n",
        "    lower=False,\n",
        ")\n",
        "\n",
        "tokenizer.fit_on_texts(train_s1)\n",
        "train_s1_seq = tokenizer.texts_to_sequences(train_s1)\n",
        "train_s1_seq = pad_sequences(train_s1_seq, maxlen=300, padding='post')\n",
        "#train_s2_seq = pad_sequences(train_s2, padding='post')\n"
      ],
      "execution_count": 0,
      "outputs": []
    },
    {
      "cell_type": "markdown",
      "metadata": {
        "id": "F2-1W3lYGcqB",
        "colab_type": "text"
      },
      "source": [
        "Replase symbols that appear fewer times with a placeholder"
      ]
    },
    {
      "cell_type": "code",
      "metadata": {
        "id": "RgpjtlWj5off",
        "colab_type": "code",
        "outputId": "9e053912-0334-486b-880a-3f961c39f47c",
        "colab": {
          "base_uri": "https://localhost:8080/",
          "height": 52
        }
      },
      "source": [
        "from collections import Counter\n",
        "unique_symbols = Counter()\n",
        "\n",
        "for _, message in train_s2.iteritems():\n",
        "    unique_symbols.update(message)\n",
        "    \n",
        "print(\"Unique symbols:\", len(unique_symbols))\n",
        "\n",
        "\n",
        "# Find symbols that appear fewer times than the threshold:\n",
        "\n",
        "uncommon_symbols = list()\n",
        "\n",
        "for symbol, count in unique_symbols.items():\n",
        "    if count < 5:\n",
        "        uncommon_symbols.append(symbol)\n",
        "\n",
        "print(\"Uncommon symbols:\", len(uncommon_symbols))\n",
        "\n",
        "\n",
        "# Replace them with a placeholder:\n",
        "\n",
        "DUMMY = uncommon_symbols[0]\n",
        "tr_table = str.maketrans(\"\".join(uncommon_symbols), DUMMY * len(uncommon_symbols))\n",
        "\n",
        "train_s2 = train_s2.apply(lambda x: x.translate(tr_table))\n",
        "\n",
        "\n",
        "# We will need the number of unique symbols further down when we will decide on the dimensionality of inputs.\n",
        "\n",
        "num_unique_symbols2 = len(unique_symbols) - len(uncommon_symbols) + 1 "
      ],
      "execution_count": 0,
      "outputs": [
        {
          "output_type": "stream",
          "text": [
            "Unique symbols: 51\n",
            "Uncommon symbols: 2\n"
          ],
          "name": "stdout"
        }
      ]
    },
    {
      "cell_type": "markdown",
      "metadata": {
        "id": "YLEnCyKePkPq",
        "colab_type": "text"
      },
      "source": [
        "Tokenizer of search_term feture by characters"
      ]
    },
    {
      "cell_type": "code",
      "metadata": {
        "id": "a85lRjLGuXWF",
        "colab_type": "code",
        "colab": {}
      },
      "source": [
        "tokenizer = Tokenizer(\n",
        "    char_level=True,\n",
        "    filters=None,\n",
        "    lower=False,\n",
        ")\n",
        "tokenizer.fit_on_texts(train_s2)\n",
        "train_s2_seq = tokenizer.texts_to_sequences(train_s2)\n",
        "train_s2_seq = pad_sequences(train_s2_seq, maxlen=300, padding='post')"
      ],
      "execution_count": 0,
      "outputs": []
    },
    {
      "cell_type": "code",
      "metadata": {
        "id": "eoDO5WSW11m1",
        "colab_type": "code",
        "colab": {}
      },
      "source": [
        "train_s1_seq=train_s1_seq.reshape(-1,1,300)\n",
        "train_s2_seq=train_s2_seq.reshape(-1,1,300)"
      ],
      "execution_count": 0,
      "outputs": []
    },
    {
      "cell_type": "markdown",
      "metadata": {
        "id": "IXdbOTz2GmvJ",
        "colab_type": "text"
      },
      "source": [
        "# Model based character level\n",
        "\n"
      ]
    },
    {
      "cell_type": "code",
      "metadata": {
        "id": "-ln9whOb9wQx",
        "colab_type": "code",
        "colab": {}
      },
      "source": [
        "from sklearn.model_selection import train_test_split\n",
        "x_train1, x_test1, y_train, y_test = train_test_split(train_s1_seq, y, test_size=0.2)\n",
        "x_train2, x_test2, y_train2, y_test = train_test_split(train_s2_seq, y, test_size=0.2)\n",
        "x_train1, x_val1, y_train, y_val = train_test_split(x_train1, y_train, test_size=0.1)\n",
        "x_train2, x_val2, y_train2, y_val = train_test_split(x_train2, y_train2, test_size=0.1)"
      ],
      "execution_count": 0,
      "outputs": []
    },
    {
      "cell_type": "code",
      "metadata": {
        "id": "gF1Xs6YSIkbN",
        "colab_type": "code",
        "outputId": "134362ea-73de-4151-bca8-a119d8d05310",
        "colab": {
          "base_uri": "https://localhost:8080/",
          "height": 266
        }
      },
      "source": [
        "import keras.backend as K\n",
        "def cosine_distance(vests):\n",
        "    x, y = vests\n",
        "    x = K.l2_normalize(x, axis=-1)\n",
        "    y = K.l2_normalize(y, axis=-1)\n",
        "    return -K.mean(x * y, axis=-1, keepdims=True)\n",
        "\n",
        "def cos_dist_output_shape(shapes):\n",
        "    shape1, shape2 = shapes\n",
        "    return (shape1[0],1)\n",
        "input_1 = Input(shape=(1,300))\n",
        "input_2 = Input(shape=(1,300))\n",
        "def root_mean_squared_error(y_true, y_pred):\n",
        "        return K.sqrt(K.mean(K.square(y_pred - y_true))) \n",
        "common_lstm = LSTM(64,return_sequences=True, activation=\"relu\")\n",
        "vector_1 = common_lstm(input_1)\n",
        "vector_1 = Flatten()(vector_1)\n",
        "\n",
        "vector_2 = common_lstm(input_2)\n",
        "vector_2 = Flatten()(vector_2)\n",
        "\n",
        "x3 = Subtract()([vector_1, vector_2])\n",
        "x4= Add()([vector_1, vector_2])\n",
        "x5=Multiply()([vector_1, vector_2])\n",
        "\n",
        "    \n",
        "conc = Concatenate(axis=-1)([x5,x4, x3])\n",
        "\n",
        "x = Dense(100, activation=\"relu\", name='conc_layer')(conc)\n",
        "x = Dropout(0.01)(x)\n",
        "out = Dense(1, activation=\"relu\", name = 'out')(x)\n",
        "\n",
        "model = Model([input_1, input_2], out)\n",
        "model.compile(loss=root_mean_squared_error, optimizer=Adam(0.00001))"
      ],
      "execution_count": 0,
      "outputs": [
        {
          "output_type": "stream",
          "text": [
            "WARNING:tensorflow:From /usr/local/lib/python3.6/dist-packages/keras/backend/tensorflow_backend.py:66: The name tf.get_default_graph is deprecated. Please use tf.compat.v1.get_default_graph instead.\n",
            "\n",
            "WARNING:tensorflow:From /usr/local/lib/python3.6/dist-packages/keras/backend/tensorflow_backend.py:541: The name tf.placeholder is deprecated. Please use tf.compat.v1.placeholder instead.\n",
            "\n",
            "WARNING:tensorflow:From /usr/local/lib/python3.6/dist-packages/keras/backend/tensorflow_backend.py:4432: The name tf.random_uniform is deprecated. Please use tf.random.uniform instead.\n",
            "\n",
            "WARNING:tensorflow:From /usr/local/lib/python3.6/dist-packages/keras/backend/tensorflow_backend.py:148: The name tf.placeholder_with_default is deprecated. Please use tf.compat.v1.placeholder_with_default instead.\n",
            "\n",
            "WARNING:tensorflow:From /usr/local/lib/python3.6/dist-packages/keras/backend/tensorflow_backend.py:3733: calling dropout (from tensorflow.python.ops.nn_ops) with keep_prob is deprecated and will be removed in a future version.\n",
            "Instructions for updating:\n",
            "Please use `rate` instead of `keep_prob`. Rate should be set to `rate = 1 - keep_prob`.\n",
            "WARNING:tensorflow:From /usr/local/lib/python3.6/dist-packages/keras/optimizers.py:793: The name tf.train.Optimizer is deprecated. Please use tf.compat.v1.train.Optimizer instead.\n",
            "\n"
          ],
          "name": "stdout"
        }
      ]
    },
    {
      "cell_type": "code",
      "metadata": {
        "id": "ASD_KUNM0IOu",
        "colab_type": "code",
        "outputId": "ba0dc925-dee7-46b6-d85d-3a4273c87781",
        "colab": {
          "base_uri": "https://localhost:8080/",
          "height": 686
        }
      },
      "source": [
        "\n",
        "model.summary()"
      ],
      "execution_count": 0,
      "outputs": [
        {
          "output_type": "stream",
          "text": [
            "Model: \"model_1\"\n",
            "__________________________________________________________________________________________________\n",
            "Layer (type)                    Output Shape         Param #     Connected to                     \n",
            "==================================================================================================\n",
            "input_1 (InputLayer)            (None, 1, 300)       0                                            \n",
            "__________________________________________________________________________________________________\n",
            "input_2 (InputLayer)            (None, 1, 300)       0                                            \n",
            "__________________________________________________________________________________________________\n",
            "lstm_1 (LSTM)                   (None, 1, 64)        93440       input_1[0][0]                    \n",
            "                                                                 input_2[0][0]                    \n",
            "__________________________________________________________________________________________________\n",
            "flatten_1 (Flatten)             (None, 64)           0           lstm_1[0][0]                     \n",
            "__________________________________________________________________________________________________\n",
            "flatten_2 (Flatten)             (None, 64)           0           lstm_1[1][0]                     \n",
            "__________________________________________________________________________________________________\n",
            "multiply_1 (Multiply)           (None, 64)           0           flatten_1[0][0]                  \n",
            "                                                                 flatten_2[0][0]                  \n",
            "__________________________________________________________________________________________________\n",
            "add_1 (Add)                     (None, 64)           0           flatten_1[0][0]                  \n",
            "                                                                 flatten_2[0][0]                  \n",
            "__________________________________________________________________________________________________\n",
            "subtract_1 (Subtract)           (None, 64)           0           flatten_1[0][0]                  \n",
            "                                                                 flatten_2[0][0]                  \n",
            "__________________________________________________________________________________________________\n",
            "concatenate_1 (Concatenate)     (None, 192)          0           multiply_1[0][0]                 \n",
            "                                                                 add_1[0][0]                      \n",
            "                                                                 subtract_1[0][0]                 \n",
            "__________________________________________________________________________________________________\n",
            "conc_layer (Dense)              (None, 100)          19300       concatenate_1[0][0]              \n",
            "__________________________________________________________________________________________________\n",
            "dropout_1 (Dropout)             (None, 100)          0           conc_layer[0][0]                 \n",
            "__________________________________________________________________________________________________\n",
            "out (Dense)                     (None, 1)            101         dropout_1[0][0]                  \n",
            "==================================================================================================\n",
            "Total params: 112,841\n",
            "Trainable params: 112,841\n",
            "Non-trainable params: 0\n",
            "__________________________________________________________________________________________________\n"
          ],
          "name": "stdout"
        }
      ]
    },
    {
      "cell_type": "code",
      "metadata": {
        "id": "wwRn5IW0IsM1",
        "colab_type": "code",
        "outputId": "7d435f41-2855-4880-9b0b-25913568da74",
        "colab": {
          "base_uri": "https://localhost:8080/",
          "height": 1000
        }
      },
      "source": [
        "import time\n",
        "siam_time=time.time()\n",
        "model.fit([x_train1,x_train2],y_train.values.reshape(-1,1), epochs = 20,\n",
        "          batch_size=64, validation_data=([x_val1, x_val2],y_val.values.reshape(-1,1)))\n",
        "siam_time=time.time()-siam_time"
      ],
      "execution_count": 0,
      "outputs": [
        {
          "output_type": "stream",
          "text": [
            "WARNING:tensorflow:From /usr/local/lib/python3.6/dist-packages/tensorflow_core/python/ops/math_grad.py:1424: where (from tensorflow.python.ops.array_ops) is deprecated and will be removed in a future version.\n",
            "Instructions for updating:\n",
            "Use tf.where in 2.0, which has the same broadcast rule as np.where\n",
            "WARNING:tensorflow:From /usr/local/lib/python3.6/dist-packages/keras/backend/tensorflow_backend.py:1033: The name tf.assign_add is deprecated. Please use tf.compat.v1.assign_add instead.\n",
            "\n",
            "WARNING:tensorflow:From /usr/local/lib/python3.6/dist-packages/keras/backend/tensorflow_backend.py:1020: The name tf.assign is deprecated. Please use tf.compat.v1.assign instead.\n",
            "\n",
            "WARNING:tensorflow:From /usr/local/lib/python3.6/dist-packages/keras/backend/tensorflow_backend.py:3005: The name tf.Session is deprecated. Please use tf.compat.v1.Session instead.\n",
            "\n",
            "Train on 53327 samples, validate on 5926 samples\n",
            "Epoch 1/20\n",
            "WARNING:tensorflow:From /usr/local/lib/python3.6/dist-packages/keras/backend/tensorflow_backend.py:190: The name tf.get_default_session is deprecated. Please use tf.compat.v1.get_default_session instead.\n",
            "\n",
            "WARNING:tensorflow:From /usr/local/lib/python3.6/dist-packages/keras/backend/tensorflow_backend.py:197: The name tf.ConfigProto is deprecated. Please use tf.compat.v1.ConfigProto instead.\n",
            "\n",
            "WARNING:tensorflow:From /usr/local/lib/python3.6/dist-packages/keras/backend/tensorflow_backend.py:207: The name tf.global_variables is deprecated. Please use tf.compat.v1.global_variables instead.\n",
            "\n",
            "WARNING:tensorflow:From /usr/local/lib/python3.6/dist-packages/keras/backend/tensorflow_backend.py:216: The name tf.is_variable_initialized is deprecated. Please use tf.compat.v1.is_variable_initialized instead.\n",
            "\n",
            "WARNING:tensorflow:From /usr/local/lib/python3.6/dist-packages/keras/backend/tensorflow_backend.py:223: The name tf.variables_initializer is deprecated. Please use tf.compat.v1.variables_initializer instead.\n",
            "\n",
            "53327/53327 [==============================] - 18s 337us/step - loss: 1.6474 - val_loss: 1.2738\n",
            "Epoch 2/20\n",
            "53327/53327 [==============================] - 8s 143us/step - loss: 1.1341 - val_loss: 1.0182\n",
            "Epoch 3/20\n",
            "53327/53327 [==============================] - 7s 140us/step - loss: 0.9651 - val_loss: 0.9072\n",
            "Epoch 4/20\n",
            "53327/53327 [==============================] - 7s 139us/step - loss: 0.8798 - val_loss: 0.8431\n",
            "Epoch 5/20\n",
            "53327/53327 [==============================] - 8s 148us/step - loss: 0.8275 - val_loss: 0.7976\n",
            "Epoch 6/20\n",
            "53327/53327 [==============================] - 8s 147us/step - loss: 0.7890 - val_loss: 0.7641\n",
            "Epoch 7/20\n",
            "53327/53327 [==============================] - 8s 143us/step - loss: 0.7555 - val_loss: 0.7356\n",
            "Epoch 8/20\n",
            "53327/53327 [==============================] - 8s 141us/step - loss: 0.7324 - val_loss: 0.7121\n",
            "Epoch 9/20\n",
            "53327/53327 [==============================] - 7s 140us/step - loss: 0.7102 - val_loss: 0.6936\n",
            "Epoch 10/20\n",
            "53327/53327 [==============================] - 7s 140us/step - loss: 0.6942 - val_loss: 0.6794\n",
            "Epoch 11/20\n",
            "53327/53327 [==============================] - 7s 138us/step - loss: 0.6791 - val_loss: 0.6662\n",
            "Epoch 12/20\n",
            "53327/53327 [==============================] - 7s 130us/step - loss: 0.6657 - val_loss: 0.6543\n",
            "Epoch 13/20\n",
            "53327/53327 [==============================] - 7s 135us/step - loss: 0.6551 - val_loss: 0.6451\n",
            "Epoch 14/20\n",
            "53327/53327 [==============================] - 7s 132us/step - loss: 0.6444 - val_loss: 0.6371\n",
            "Epoch 15/20\n",
            "53327/53327 [==============================] - 7s 134us/step - loss: 0.6336 - val_loss: 0.6291\n",
            "Epoch 16/20\n",
            "53327/53327 [==============================] - 7s 134us/step - loss: 0.6280 - val_loss: 0.6232\n",
            "Epoch 17/20\n",
            "53327/53327 [==============================] - 7s 134us/step - loss: 0.6202 - val_loss: 0.6180\n",
            "Epoch 18/20\n",
            "53327/53327 [==============================] - 7s 136us/step - loss: 0.6132 - val_loss: 0.6131\n",
            "Epoch 19/20\n",
            "53327/53327 [==============================] - 7s 134us/step - loss: 0.6072 - val_loss: 0.6088\n",
            "Epoch 20/20\n",
            "53327/53327 [==============================] - 7s 135us/step - loss: 0.6014 - val_loss: 0.6049\n"
          ],
          "name": "stdout"
        }
      ]
    },
    {
      "cell_type": "markdown",
      "metadata": {
        "id": "lFuLNyXhKL77",
        "colab_type": "text"
      },
      "source": [
        "Evaluation by RMSE and MAE"
      ]
    },
    {
      "cell_type": "code",
      "metadata": {
        "id": "keR1N0ggvQnB",
        "colab_type": "code",
        "colab": {}
      },
      "source": [
        "siam_pred_time=time.time()\n",
        "siam_train_pred=model.predict([x_train1,x_train2])\n",
        "siam_val_pred=model.predict([x_val1, x_val2])\n",
        "siam_test_pred=model.predict([x_test1, x_test2])\n",
        "siam_pred_time=time.time()-siam_pred_time"
      ],
      "execution_count": 0,
      "outputs": []
    },
    {
      "cell_type": "code",
      "metadata": {
        "id": "qzg-pNZ2yA8O",
        "colab_type": "code",
        "outputId": "8cba704d-4278-46ae-bbc6-392de5d243e1",
        "colab": {
          "base_uri": "https://localhost:8080/",
          "height": 122
        }
      },
      "source": [
        "from sklearn.metrics import mean_squared_error,mean_absolute_error\n",
        "from math import sqrt\n",
        "lstm_rmse_train = sqrt(mean_squared_error(y_train, siam_train_pred))\n",
        "lstm_rmse_val = sqrt(mean_squared_error(y_val, siam_val_pred))\n",
        "lstm_rmse_test = sqrt(mean_squared_error(y_test, siam_test_pred))\n",
        "lstm_mae_train=mean_absolute_error(y_train, siam_train_pred)\n",
        "lstm_mae_val=mean_absolute_error(y_val, siam_val_pred)\n",
        "lstm_mae_test=mean_absolute_error(y_test, siam_test_pred)\n",
        "print('******************LSTM***********************')\n",
        "print(\"TRAIN: RMSE: %f , MAE: %f\" % (lstm_rmse_train,lstm_mae_train))\n",
        "print(\"VALIDATE: RMSE: %f , MAE: %f\" % (lstm_rmse_val,lstm_mae_val))\n",
        "print(\"TEST: RMSE: %f , MAE: %f\" % (lstm_rmse_test,lstm_mae_test))\n",
        "print('taining time : ' + str(siam_time))\n",
        "print('prediction time : ' + str(siam_pred_time))"
      ],
      "execution_count": 0,
      "outputs": [
        {
          "output_type": "stream",
          "text": [
            "******************LSTM***********************\n",
            "TRAIN: RMSE: 0.583946 , MAE: 0.475784\n",
            "VALIDATE: RMSE: 0.606638 , MAE: 0.494308\n",
            "TEST: RMSE: 0.606863 , MAE: 0.496238\n",
            "taining time : 159.12244248390198\n",
            "prediction time : 7.081084489822388\n"
          ],
          "name": "stdout"
        }
      ]
    },
    {
      "cell_type": "markdown",
      "metadata": {
        "id": "M1XPVfm2LE4o",
        "colab_type": "text"
      },
      "source": [
        "# Naive linear regression on character level\n"
      ]
    },
    {
      "cell_type": "code",
      "metadata": {
        "id": "JKyrGemQsPXf",
        "colab_type": "code",
        "colab": {}
      },
      "source": [
        "from sklearn.pipeline import Pipeline\n",
        "from sklearn.feature_extraction.text import CountVectorizer\n",
        "from sklearn.ensemble import RandomForestClassifier\n",
        "from sklearn.linear_model import LinearRegression\n",
        " #dummy function for CountVectorizer\n",
        "def dummy_fun(doc):\n",
        "    return doc\n",
        "\n",
        "lr_model=Pipeline([('vect', CountVectorizer(analyzer='char',\n",
        "     tokenizer=dummy_fun,\n",
        "     preprocessor=dummy_fun,\n",
        "     token_pattern=None)),\n",
        "               ('clf', LinearRegression())\n",
        "              ])\n",
        "train['combined'] = train[['product_title', 'search_term']].apply(lambda x: ''.join(x), axis=1)"
      ],
      "execution_count": 0,
      "outputs": []
    },
    {
      "cell_type": "code",
      "metadata": {
        "id": "3f5ZtlHzEX-t",
        "colab_type": "code",
        "colab": {}
      },
      "source": [
        "def split_chars(df):\n",
        "  data=df.copy()\n",
        "  data['combined']=data['combined'].apply(lambda x: [char for char in x if char != ' '])\n",
        "  return data\n",
        "#train=split_chars(train)\n",
        "train['combined']=train['combined'].astype(str)\n",
        "lr_train, lr_test, y_train, y_test = train_test_split(train['combined'], y, test_size=0.2)\n",
        "lr_train, lr_val, y_train, y_val = train_test_split(lr_train, y_train, test_size=0.1)"
      ],
      "execution_count": 0,
      "outputs": []
    },
    {
      "cell_type": "code",
      "metadata": {
        "id": "TVTJpFCHXJpm",
        "colab_type": "code",
        "colab": {}
      },
      "source": [
        "lr_time=time.time()\n",
        "lr_model.fit(lr_train,y_train)\n",
        "lr_time=time.time()-lr_time"
      ],
      "execution_count": 0,
      "outputs": []
    },
    {
      "cell_type": "code",
      "metadata": {
        "id": "uEOr6ocTou8u",
        "colab_type": "code",
        "colab": {}
      },
      "source": [
        "lr_pred_time=time.time()\n",
        "lr_val_pred=lr_model.predict(lr_val)\n",
        "lr_test_pred=lr_model.predict(lr_test)\n",
        "lr_train_pred=lr_model.predict(lr_train)\n",
        "lr_pred_time=time.time()-lr_pred_time"
      ],
      "execution_count": 0,
      "outputs": []
    },
    {
      "cell_type": "code",
      "metadata": {
        "id": "EInGsxQ7ZNYy",
        "colab_type": "code",
        "outputId": "0d3cd1cd-4b3d-4804-9dd6-4d3fde290c39",
        "colab": {
          "base_uri": "https://localhost:8080/",
          "height": 122
        }
      },
      "source": [
        "from sklearn.metrics import mean_squared_error,mean_absolute_error\n",
        "from math import sqrt\n",
        "lr_rmse_train = sqrt(mean_squared_error(y_train, lr_train_pred))\n",
        "lr_rmse_val = sqrt(mean_squared_error(y_val, lr_val_pred))\n",
        "lr_rmse_test = sqrt(mean_squared_error(y_test, lr_test_pred))\n",
        "lr_mae_train=mean_absolute_error(y_train, lr_train_pred)\n",
        "lr_mae_val=mean_absolute_error(y_val, lr_val_pred)\n",
        "lr_mae_test=mean_absolute_error(y_test, lr_test_pred)\n",
        "print('******************naive linear regression***********************')\n",
        "print(\"TRAIN: RMSE: %f , MAE: %f\" % (lr_rmse_train,lr_mae_train))\n",
        "print(\"VALIDATE: RMSE: %f , MAE: %f\" % (lr_rmse_val,lr_mae_val))\n",
        "print(\"TEST: RMSE: %f , MAE: %f\" % (lr_rmse_test,lr_mae_test))\n",
        "print('test time : ' + str(lr_time))\n",
        "print('prediction time : ' + str(lr_pred_time))"
      ],
      "execution_count": 0,
      "outputs": [
        {
          "output_type": "stream",
          "text": [
            "******************naive linear regression***********************\n",
            "TRAIN: RMSE: 0.531074 , MAE: 0.435518\n",
            "VALIDATE: RMSE: 0.531780 , MAE: 0.435848\n",
            "TEST: RMSE: 0.530758 , MAE: 0.435205\n",
            "test time : 2.101875066757202\n",
            "prediction time : 1.6222164630889893\n"
          ],
          "name": "stdout"
        }
      ]
    },
    {
      "cell_type": "markdown",
      "metadata": {
        "id": "zjt3-JkLLddo",
        "colab_type": "text"
      },
      "source": [
        "#Features extraction"
      ]
    },
    {
      "cell_type": "code",
      "metadata": {
        "id": "8a4tmT_moXwa",
        "colab_type": "code",
        "colab": {}
      },
      "source": [
        "feature_extract=model.layers[-3].output"
      ],
      "execution_count": 0,
      "outputs": []
    },
    {
      "cell_type": "code",
      "metadata": {
        "id": "xeASB3UiCiFn",
        "colab_type": "code",
        "colab": {}
      },
      "source": [
        "newModel=Model([input_1, input_2], feature_extract)"
      ],
      "execution_count": 0,
      "outputs": []
    },
    {
      "cell_type": "code",
      "metadata": {
        "id": "HHwRi9zLCwV3",
        "colab_type": "code",
        "outputId": "10461f2e-2c71-4ec0-dfd8-4a9edacbd64c",
        "colab": {
          "base_uri": "https://localhost:8080/",
          "height": 615
        }
      },
      "source": [
        "newModel.summary()"
      ],
      "execution_count": 0,
      "outputs": [
        {
          "output_type": "stream",
          "text": [
            "Model: \"model_2\"\n",
            "__________________________________________________________________________________________________\n",
            "Layer (type)                    Output Shape         Param #     Connected to                     \n",
            "==================================================================================================\n",
            "input_1 (InputLayer)            (None, 1, 300)       0                                            \n",
            "__________________________________________________________________________________________________\n",
            "input_2 (InputLayer)            (None, 1, 300)       0                                            \n",
            "__________________________________________________________________________________________________\n",
            "lstm_1 (LSTM)                   (None, 1, 64)        93440       input_1[0][0]                    \n",
            "                                                                 input_2[0][0]                    \n",
            "__________________________________________________________________________________________________\n",
            "flatten_1 (Flatten)             (None, 64)           0           lstm_1[0][0]                     \n",
            "__________________________________________________________________________________________________\n",
            "flatten_2 (Flatten)             (None, 64)           0           lstm_1[1][0]                     \n",
            "__________________________________________________________________________________________________\n",
            "multiply_1 (Multiply)           (None, 64)           0           flatten_1[0][0]                  \n",
            "                                                                 flatten_2[0][0]                  \n",
            "__________________________________________________________________________________________________\n",
            "add_1 (Add)                     (None, 64)           0           flatten_1[0][0]                  \n",
            "                                                                 flatten_2[0][0]                  \n",
            "__________________________________________________________________________________________________\n",
            "subtract_1 (Subtract)           (None, 64)           0           flatten_1[0][0]                  \n",
            "                                                                 flatten_2[0][0]                  \n",
            "__________________________________________________________________________________________________\n",
            "concatenate_1 (Concatenate)     (None, 192)          0           multiply_1[0][0]                 \n",
            "                                                                 add_1[0][0]                      \n",
            "                                                                 subtract_1[0][0]                 \n",
            "__________________________________________________________________________________________________\n",
            "conc_layer (Dense)              (None, 100)          19300       concatenate_1[0][0]              \n",
            "==================================================================================================\n",
            "Total params: 112,740\n",
            "Trainable params: 112,740\n",
            "Non-trainable params: 0\n",
            "__________________________________________________________________________________________________\n"
          ],
          "name": "stdout"
        }
      ]
    },
    {
      "cell_type": "code",
      "metadata": {
        "id": "sN79ECZ0qTYY",
        "colab_type": "code",
        "colab": {}
      },
      "source": [
        "fe_train=newModel.predict(([x_train1,x_train2]))\n",
        "fe_val=newModel.predict(([x_val1,x_val2]))\n",
        "fe_test=newModel.predict(([x_test1,x_test2]))"
      ],
      "execution_count": 0,
      "outputs": []
    },
    {
      "cell_type": "code",
      "metadata": {
        "id": "d-Jjb2vA9PDW",
        "colab_type": "code",
        "outputId": "a9b04508-84f9-40f0-9840-d570f5c433b0",
        "colab": {
          "base_uri": "https://localhost:8080/",
          "height": 34
        }
      },
      "source": [
        "fe_train.shape"
      ],
      "execution_count": 0,
      "outputs": [
        {
          "output_type": "execute_result",
          "data": {
            "text/plain": [
              "(53327, 100)"
            ]
          },
          "metadata": {
            "tags": []
          },
          "execution_count": 32
        }
      ]
    },
    {
      "cell_type": "markdown",
      "metadata": {
        "id": "oF1q0OdjMElb",
        "colab_type": "text"
      },
      "source": [
        "# Xgboost model"
      ]
    },
    {
      "cell_type": "code",
      "metadata": {
        "id": "PV7KZDQRu-LV",
        "colab_type": "code",
        "colab": {}
      },
      "source": [
        "from sklearn.neighbors import KNeighborsRegressor\n",
        "import xgboost as xgb\n",
        "xg_reg = xgb.XGBRegressor(objective ='reg:linear', colsample_bytree = 0.3, learning_rate = 0.2,\n",
        "                alpha = 10, n_estimators = 50)\n",
        "knn_reg=KNeighborsRegressor(n_neighbors=3,weights='uniform')"
      ],
      "execution_count": 0,
      "outputs": []
    },
    {
      "cell_type": "code",
      "metadata": {
        "id": "WFLSRHr5L_Zq",
        "colab_type": "code",
        "outputId": "0bcc9fd8-e1c9-4bb9-9a24-4fb13d93b396",
        "colab": {
          "base_uri": "https://localhost:8080/",
          "height": 90
        }
      },
      "source": [
        "xgb_train_time=time.time()\n",
        "xg_reg.fit(fe_train,y_train)\n",
        "xgb_train_time=time.time()-xgb_train_time"
      ],
      "execution_count": 0,
      "outputs": [
        {
          "output_type": "stream",
          "text": [
            "/usr/local/lib/python3.6/dist-packages/xgboost/core.py:587: FutureWarning: Series.base is deprecated and will be removed in a future version\n",
            "  if getattr(data, 'base', None) is not None and \\\n"
          ],
          "name": "stderr"
        },
        {
          "output_type": "stream",
          "text": [
            "[07:11:45] WARNING: /workspace/src/objective/regression_obj.cu:152: reg:linear is now deprecated in favor of reg:squarederror.\n"
          ],
          "name": "stdout"
        }
      ]
    },
    {
      "cell_type": "markdown",
      "metadata": {
        "id": "io_F8KQrMHRB",
        "colab_type": "text"
      },
      "source": [
        "# Knn model"
      ]
    },
    {
      "cell_type": "code",
      "metadata": {
        "id": "RPnPrJsUNvdz",
        "colab_type": "code",
        "colab": {}
      },
      "source": [
        "knn_train_time=time.time()\n",
        "knn_reg.fit(fe_train,y_train)\n",
        "knn_train_time=time.time()-knn_train_time"
      ],
      "execution_count": 0,
      "outputs": []
    },
    {
      "cell_type": "code",
      "metadata": {
        "id": "U4iKttUXMIRy",
        "colab_type": "code",
        "colab": {}
      },
      "source": [
        "xgb_predict_time=time.time()\n",
        "xgb_train_pred=xg_reg.predict(fe_train)\n",
        "xgb_val_pred=xg_reg.predict(fe_val)\n",
        "xgb_test_pred=xg_reg.predict(fe_test)\n",
        "xgb_predict_time=time.time()-xgb_predict_time"
      ],
      "execution_count": 0,
      "outputs": []
    },
    {
      "cell_type": "code",
      "metadata": {
        "id": "dtD5lpak2Lbj",
        "colab_type": "code",
        "colab": {}
      },
      "source": [
        "knn_predict_time=time.time()\n",
        "knn_train_pred=knn_reg.predict(fe_train)\n",
        "knn_val_pred=knn_reg.predict(fe_val)\n",
        "knn_test_pred=knn_reg.predict(fe_test)\n",
        "knn_predict_time=time.time()-knn_predict_time"
      ],
      "execution_count": 0,
      "outputs": []
    },
    {
      "cell_type": "code",
      "metadata": {
        "id": "KkCCpOKW2zS5",
        "colab_type": "code",
        "outputId": "27b49493-c305-4b35-bc86-80adbd30d8a1",
        "colab": {
          "base_uri": "https://localhost:8080/",
          "height": 122
        }
      },
      "source": [
        "\n",
        "xgb_rmse_train = sqrt(mean_squared_error(y_train, xgb_train_pred))\n",
        "xgb_rmse_val = sqrt(mean_squared_error(y_val, xgb_val_pred))\n",
        "xgb_rmse_test = sqrt(mean_squared_error(y_test, xgb_test_pred))\n",
        "xgb_mae_train=mean_absolute_error(y_train, xgb_train_pred)\n",
        "xgb_mae_val=mean_absolute_error(y_val, xgb_val_pred)\n",
        "xgb_mae_test=mean_absolute_error(y_test, xgb_test_pred)\n",
        "print('******************XGB***********************')\n",
        "print(\"TRAIN: RMSE: %f , MAE: %f\" % (xgb_rmse_train,xgb_mae_train))\n",
        "print(\"VALIDATE: RMSE: %f , MAE: %f\" % (xgb_rmse_val,xgb_mae_val))\n",
        "print(\"TEST: RMSE: %f , MAE: %f\" % (xgb_rmse_test,xgb_mae_test))\n",
        "print('training time : ' + str(xgb_train_time))\n",
        "print('prediction time : ' + str(xgb_predict_time))"
      ],
      "execution_count": 0,
      "outputs": [
        {
          "output_type": "stream",
          "text": [
            "******************XGB***********************\n",
            "TRAIN: RMSE: 0.529514 , MAE: 0.433945\n",
            "VALIDATE: RMSE: 0.534574 , MAE: 0.438108\n",
            "TEST: RMSE: 0.534010 , MAE: 0.437845\n",
            "training time : 5.471521377563477\n",
            "prediction time : 0.12833356857299805\n"
          ],
          "name": "stdout"
        }
      ]
    },
    {
      "cell_type": "code",
      "metadata": {
        "id": "WNLb8-a8MWuy",
        "colab_type": "code",
        "outputId": "c5b45392-85d3-4f7a-a963-7f25b80b2325",
        "colab": {
          "base_uri": "https://localhost:8080/",
          "height": 122
        }
      },
      "source": [
        "knn_rmse_train = sqrt(mean_squared_error(y_train, knn_train_pred))\n",
        "knn_rmse_val = sqrt(mean_squared_error(y_val, knn_val_pred))\n",
        "knn_rmse_test = sqrt(mean_squared_error(y_test, knn_test_pred))\n",
        "knn_mae_train=mean_absolute_error(y_train, knn_train_pred)\n",
        "knn_mae_val=mean_absolute_error(y_val, knn_val_pred)\n",
        "knn_mae_test=mean_absolute_error(y_test, knn_test_pred)\n",
        "print('******************KNN***********************')\n",
        "print(\"TRAIN: RMSE: %f , MAE: %f\" % (knn_rmse_train,knn_mae_train))\n",
        "print(\"VALIDATE: RMSE: %f , MAE: %f\" % (knn_rmse_val,knn_mae_val))\n",
        "print(\"TEST: RMSE: %f , MAE: %f\" % (knn_rmse_test,knn_mae_test))\n",
        "print('training time : ' + str(knn_train_time))\n",
        "print('prediction time : ' + str(knn_predict_time))"
      ],
      "execution_count": 0,
      "outputs": [
        {
          "output_type": "stream",
          "text": [
            "******************KNN***********************\n",
            "TRAIN: RMSE: 0.437820 , MAE: 0.349824\n",
            "VALIDATE: RMSE: 0.616387 , MAE: 0.499122\n",
            "TEST: RMSE: 0.612174 , MAE: 0.494942\n",
            "training time : 0.9693400859832764\n",
            "prediction time : 689.6705441474915\n"
          ],
          "name": "stdout"
        }
      ]
    },
    {
      "cell_type": "markdown",
      "metadata": {
        "id": "3ojpoNoNMNfP",
        "colab_type": "text"
      },
      "source": [
        "# Compration between all of models"
      ]
    },
    {
      "cell_type": "code",
      "metadata": {
        "id": "e4AmAy78-I1R",
        "colab_type": "code",
        "outputId": "f328e0ef-c521-4459-b6e1-a006cb444d30",
        "colab": {
          "base_uri": "https://localhost:8080/",
          "height": 582
        }
      },
      "source": [
        "import numpy as np\n",
        "import matplotlib.pyplot as plt\n",
        "indices = np.arange(4)\n",
        "clf_names=['linear regression','LSTM','xgboost','knn']\n",
        "training_time=[lr_time,siam_time,xgb_train_time,knn_train_time]\n",
        "test_time=[lr_pred_time,siam_pred_time,xgb_predict_time,knn_predict_time]\n",
        "rmse=[lr_rmse_test,lstm_rmse_test,xgb_rmse_test,knn_rmse_test]\n",
        "training_time = np.array(training_time) / np.max(training_time)\n",
        "test_time = np.array(test_time) / np.max(test_time)\n",
        "\n",
        "plt.figure(figsize=(12, 8))\n",
        "plt.title(\"Score\")\n",
        "plt.barh(indices, rmse, .2, label=\"rmse\", color='navy')\n",
        "plt.barh(indices + .3, training_time, .2, label=\"training time\",\n",
        "         color='c')\n",
        "plt.barh(indices + .6, test_time, .2, label=\"test time\", color='darkorange')\n",
        "plt.yticks(())\n",
        "plt.legend(loc='best')\n",
        "plt.subplots_adjust(left=.25)\n",
        "plt.subplots_adjust(top=.95)\n",
        "plt.subplots_adjust(bottom=.05)\n",
        "\n",
        "for i, c in zip(indices, clf_names):\n",
        "    plt.text(-.3, i, c)\n",
        "\n",
        "plt.show()"
      ],
      "execution_count": 0,
      "outputs": [
        {
          "output_type": "display_data",
          "data": {
            "image/png": "[encoded data removed]",
            "text/plain": [
              "<Figure size 864x576 with 1 Axes>"
            ]
          },
          "metadata": {
            "tags": []
          }
        }
      ]
    },
    {
      "cell_type": "code",
      "metadata": {
        "id": "-1YEBXIJ_fIJ",
        "colab_type": "code",
        "colab": {}
      },
      "source": [
        "train_s1=train['product_title']\n",
        "train_s2=train['search_term']\n",
        "y=train['relevance']"
      ],
      "execution_count": 0,
      "outputs": []
    },
    {
      "cell_type": "code",
      "metadata": {
        "id": "X9V4DyKSSwys",
        "colab_type": "code",
        "colab": {}
      },
      "source": [
        "# from collections import Counter\n",
        "# unique_symbols = Counter()\n",
        "\n",
        "# for _, message in train_s1.iteritems():\n",
        "#     unique_symbols.update(message)\n",
        "    \n",
        "# print(\"Unique symbols:\", len(unique_symbols))\n",
        "\n",
        "\n",
        "# # Find symbols that appear fewer times than the threshold:\n",
        "\n",
        "# uncommon_symbols = list()\n",
        "\n",
        "# for symbol, count in unique_symbols.items():\n",
        "#     if count < 5:\n",
        "#         uncommon_symbols.append(symbol)\n",
        "\n",
        "# print(\"Uncommon symbols:\", len(uncommon_symbols))\n",
        "\n",
        "\n",
        "# # Replace them with a placeholder:\n",
        "\n",
        "# DUMMY = uncommon_symbols[0]\n",
        "# tr_table = str.maketrans(\"\".join(uncommon_symbols), DUMMY * len(uncommon_symbols))\n",
        "\n",
        "# train_s1 = train_s1.apply(lambda x: x.translate(tr_table))\n",
        "\n",
        "\n",
        "# # We will need the number of unique symbols further down when we will decide on the dimensionality of inputs.\n",
        "\n",
        "# num_unique_symbols = len(unique_symbols) - len(uncommon_symbols) + 1 \n",
        "max_length1 = train_s1.map(len).max()"
      ],
      "execution_count": 0,
      "outputs": []
    },
    {
      "cell_type": "markdown",
      "metadata": {
        "id": "Y_z4mckLP0Ew",
        "colab_type": "text"
      },
      "source": [
        "Tokenizer of product_title feture by words"
      ]
    },
    {
      "cell_type": "code",
      "metadata": {
        "id": "Hcgt80JbSz_b",
        "colab_type": "code",
        "colab": {}
      },
      "source": [
        "tokenizer = Tokenizer(\n",
        "    # char_level=True,\n",
        "    lower=False,\n",
        ")\n",
        "\n",
        "tokenizer.fit_on_texts(train_s1)\n",
        "train_s1_seq = tokenizer.texts_to_sequences(train_s1)\n",
        "train_s1_seq = pad_sequences(train_s1_seq, maxlen=max_length1, padding='post')\n",
        "vocab_size1 = len(tokenizer.word_index) + 1"
      ],
      "execution_count": 0,
      "outputs": []
    },
    {
      "cell_type": "code",
      "metadata": {
        "id": "A4mTwUl5S3Qe",
        "colab_type": "code",
        "colab": {}
      },
      "source": [
        "# from collections import Counter\n",
        "# unique_symbols = Counter()\n",
        "\n",
        "# for _, message in train_s2.iteritems():\n",
        "#     unique_symbols.update(message)\n",
        "    \n",
        "# print(\"Unique symbols:\", len(unique_symbols))\n",
        "\n",
        "\n",
        "# # Find symbols that appear fewer times than the threshold:\n",
        "\n",
        "# uncommon_symbols = list()\n",
        "\n",
        "# for symbol, count in unique_symbols.items():\n",
        "#     if count < 5:\n",
        "#         uncommon_symbols.append(symbol)\n",
        "\n",
        "# print(\"Uncommon symbols:\", len(uncommon_symbols))\n",
        "\n",
        "\n",
        "# # Replace them with a placeholder:\n",
        "\n",
        "# DUMMY = uncommon_symbols[0]\n",
        "# tr_table = str.maketrans(\"\".join(uncommon_symbols), DUMMY * len(uncommon_symbols))\n",
        "\n",
        "# train_s2 = train_s2.apply(lambda x: x.translate(tr_table))\n",
        "\n",
        "\n",
        "# # We will need the number of unique symbols further down when we will decide on the dimensionality of inputs.\n",
        "\n",
        "# num_unique_symbols2 = len(unique_symbols) - len(uncommon_symbols) + 1 \n",
        "\n",
        "max_length2 = train_s2.map(len).max()"
      ],
      "execution_count": 0,
      "outputs": []
    },
    {
      "cell_type": "markdown",
      "metadata": {
        "id": "Mk7nAi0nP4qW",
        "colab_type": "text"
      },
      "source": [
        "Tokenizer of search_term feture by words"
      ]
    },
    {
      "cell_type": "code",
      "metadata": {
        "id": "bhD3zJe4S7G1",
        "colab_type": "code",
        "colab": {}
      },
      "source": [
        "tokenizer = Tokenizer(\n",
        "    # char_level=True,\n",
        "    # filters=None,\n",
        "    lower=False,\n",
        ")\n",
        "tokenizer.fit_on_texts(train_s2)\n",
        "train_s2_seq = tokenizer.texts_to_sequences(train_s2)\n",
        "train_s2_seq = pad_sequences(train_s2_seq, maxlen=max_length1, padding='post')\n",
        "vocab_size2 = len(tokenizer.word_index) + 1"
      ],
      "execution_count": 0,
      "outputs": []
    },
    {
      "cell_type": "markdown",
      "metadata": {
        "id": "W_txa72FHArW",
        "colab_type": "text"
      },
      "source": [
        "# Model based word level with embedded layer\n",
        " \n"
      ]
    },
    {
      "cell_type": "code",
      "metadata": {
        "id": "OOCmocoiTbL9",
        "colab_type": "code",
        "colab": {}
      },
      "source": [
        "from sklearn.model_selection import train_test_split\n",
        "x_train1, x_test1, y_train, y_test = train_test_split(train_s1_seq, y, test_size=0.2)\n",
        "x_train2, x_test2, y_train2, y_test = train_test_split(train_s2_seq, y, test_size=0.2)\n",
        "x_train1, x_val1, y_train, y_val = train_test_split(x_train1, y_train, test_size=0.1)\n",
        "x_train2, x_val2, y_train2, y_val = train_test_split(x_train2, y_train2, test_size=0.1)"
      ],
      "execution_count": 0,
      "outputs": []
    },
    {
      "cell_type": "code",
      "metadata": {
        "id": "LqnBKImGUj5l",
        "colab_type": "code",
        "outputId": "7a8533f9-d4f8-44b2-c814-266c3f59b660",
        "colab": {
          "base_uri": "https://localhost:8080/",
          "height": 1000
        }
      },
      "source": [
        "import keras.backend as K\n",
        "def cosine_distance(vests):\n",
        "    x, y = vests\n",
        "    x = K.l2_normalize(x, axis=-1)\n",
        "    y = K.l2_normalize(y, axis=-1)\n",
        "    return -K.mean(x * y, axis=-1, keepdims=True)\n",
        "\n",
        "\n",
        "def cos_dist_output_shape(shapes):\n",
        "    shape1, shape2 = shapes\n",
        "    return (shape1[0],1)\n",
        "input_1 = Input(shape=(max_length1,))\n",
        "input_2 = Input(shape=(max_length1,))\n",
        "\n",
        "emb_1 = Embedding(vocab_size1, 64,input_shape=(max_length1,))(input_1)#, input_shape=(1,max_length1)\n",
        "emb_2 = Embedding(vocab_size2, 64,input_shape=(max_length1,))(input_2)#, input_shape=(1,max_length2)\n",
        "\n",
        "common_lstm = LSTM(64,return_sequences=True, activation=\"relu\")\n",
        "vector_1 = common_lstm(emb_1)\n",
        "vector_1 = Flatten()(vector_1)\n",
        "\n",
        "vector_2 = common_lstm(emb_2)\n",
        "vector_2 = Flatten()(vector_2)\n",
        "\n",
        "x3 = Subtract()([vector_1, vector_2])\n",
        "x4= Add()([vector_1, vector_2])\n",
        "x5=Multiply()([vector_1, vector_2])\n",
        "\n",
        "conc = Concatenate(axis=-1)([x5,x4, x3])\n",
        "\n",
        "x = Dense(100, activation=\"relu\", name='conc_layer')(conc)\n",
        "x = Dropout(0.01)(x)\n",
        "out = Dense(1, activation=\"relu\", name = 'out')(x)\n",
        "\n",
        "model = Model([input_1, input_2], out)\n",
        "\n",
        "model.compile(loss=\"mae\", optimizer=Adam(0.00001))\n",
        "model.summary()"
      ],
      "execution_count": 13,
      "outputs": [
        {
          "output_type": "stream",
          "text": [
            "WARNING:tensorflow:From /usr/local/lib/python3.6/dist-packages/keras/backend/tensorflow_backend.py:66: The name tf.get_default_graph is deprecated. Please use tf.compat.v1.get_default_graph instead.\n",
            "\n",
            "WARNING:tensorflow:From /usr/local/lib/python3.6/dist-packages/keras/backend/tensorflow_backend.py:541: The name tf.placeholder is deprecated. Please use tf.compat.v1.placeholder instead.\n",
            "\n",
            "WARNING:tensorflow:From /usr/local/lib/python3.6/dist-packages/keras/backend/tensorflow_backend.py:4432: The name tf.random_uniform is deprecated. Please use tf.random.uniform instead.\n",
            "\n",
            "WARNING:tensorflow:From /usr/local/lib/python3.6/dist-packages/keras/backend/tensorflow_backend.py:148: The name tf.placeholder_with_default is deprecated. Please use tf.compat.v1.placeholder_with_default instead.\n",
            "\n",
            "WARNING:tensorflow:From /usr/local/lib/python3.6/dist-packages/keras/backend/tensorflow_backend.py:3733: calling dropout (from tensorflow.python.ops.nn_ops) with keep_prob is deprecated and will be removed in a future version.\n",
            "Instructions for updating:\n",
            "Please use `rate` instead of `keep_prob`. Rate should be set to `rate = 1 - keep_prob`.\n",
            "WARNING:tensorflow:From /usr/local/lib/python3.6/dist-packages/keras/optimizers.py:793: The name tf.train.Optimizer is deprecated. Please use tf.compat.v1.train.Optimizer instead.\n",
            "\n",
            "Model: \"model_1\"\n",
            "__________________________________________________________________________________________________\n",
            "Layer (type)                    Output Shape         Param #     Connected to                     \n",
            "==================================================================================================\n",
            "input_1 (InputLayer)            (None, 136)          0                                            \n",
            "__________________________________________________________________________________________________\n",
            "input_2 (InputLayer)            (None, 136)          0                                            \n",
            "__________________________________________________________________________________________________\n",
            "embedding_1 (Embedding)         (None, 136, 64)      1084672     input_1[0][0]                    \n",
            "__________________________________________________________________________________________________\n",
            "embedding_2 (Embedding)         (None, 136, 64)      444672      input_2[0][0]                    \n",
            "__________________________________________________________________________________________________\n",
            "lstm_1 (LSTM)                   (None, 136, 64)      33024       embedding_1[0][0]                \n",
            "                                                                 embedding_2[0][0]                \n",
            "__________________________________________________________________________________________________\n",
            "flatten_1 (Flatten)             (None, 8704)         0           lstm_1[0][0]                     \n",
            "__________________________________________________________________________________________________\n",
            "flatten_2 (Flatten)             (None, 8704)         0           lstm_1[1][0]                     \n",
            "__________________________________________________________________________________________________\n",
            "multiply_1 (Multiply)           (None, 8704)         0           flatten_1[0][0]                  \n",
            "                                                                 flatten_2[0][0]                  \n",
            "__________________________________________________________________________________________________\n",
            "add_1 (Add)                     (None, 8704)         0           flatten_1[0][0]                  \n",
            "                                                                 flatten_2[0][0]                  \n",
            "__________________________________________________________________________________________________\n",
            "subtract_1 (Subtract)           (None, 8704)         0           flatten_1[0][0]                  \n",
            "                                                                 flatten_2[0][0]                  \n",
            "__________________________________________________________________________________________________\n",
            "concatenate_1 (Concatenate)     (None, 26112)        0           multiply_1[0][0]                 \n",
            "                                                                 add_1[0][0]                      \n",
            "                                                                 subtract_1[0][0]                 \n",
            "__________________________________________________________________________________________________\n",
            "conc_layer (Dense)              (None, 100)          2611300     concatenate_1[0][0]              \n",
            "__________________________________________________________________________________________________\n",
            "dropout_1 (Dropout)             (None, 100)          0           conc_layer[0][0]                 \n",
            "__________________________________________________________________________________________________\n",
            "out (Dense)                     (None, 1)            101         dropout_1[0][0]                  \n",
            "==================================================================================================\n",
            "Total params: 4,173,769\n",
            "Trainable params: 4,173,769\n",
            "Non-trainable params: 0\n",
            "__________________________________________________________________________________________________\n"
          ],
          "name": "stdout"
        }
      ]
    },
    {
      "cell_type": "code",
      "metadata": {
        "id": "hkhsxqrBU3qG",
        "colab_type": "code",
        "outputId": "e8d26852-4057-4e8d-cb7c-102c05e5e923",
        "colab": {
          "base_uri": "https://localhost:8080/",
          "height": 1000
        }
      },
      "source": [
        "import time\n",
        "siam_time=time.time()\n",
        "model.fit([x_train1,x_train2],y_train.values.reshape(-1,1), epochs = 20,\n",
        "          batch_size=64, validation_data=([x_val1, x_val2],y_val.values.reshape(-1,1)))\n",
        "siam_time=time.time()-siam_time"
      ],
      "execution_count": 14,
      "outputs": [
        {
          "output_type": "stream",
          "text": [
            "WARNING:tensorflow:From /usr/local/lib/python3.6/dist-packages/tensorflow_core/python/ops/math_grad.py:1424: where (from tensorflow.python.ops.array_ops) is deprecated and will be removed in a future version.\n",
            "Instructions for updating:\n",
            "Use tf.where in 2.0, which has the same broadcast rule as np.where\n",
            "WARNING:tensorflow:From /usr/local/lib/python3.6/dist-packages/keras/backend/tensorflow_backend.py:1033: The name tf.assign_add is deprecated. Please use tf.compat.v1.assign_add instead.\n",
            "\n",
            "WARNING:tensorflow:From /usr/local/lib/python3.6/dist-packages/keras/backend/tensorflow_backend.py:1020: The name tf.assign is deprecated. Please use tf.compat.v1.assign instead.\n",
            "\n",
            "WARNING:tensorflow:From /usr/local/lib/python3.6/dist-packages/keras/backend/tensorflow_backend.py:3005: The name tf.Session is deprecated. Please use tf.compat.v1.Session instead.\n",
            "\n",
            "Train on 53327 samples, validate on 5926 samples\n",
            "Epoch 1/20\n",
            "WARNING:tensorflow:From /usr/local/lib/python3.6/dist-packages/keras/backend/tensorflow_backend.py:190: The name tf.get_default_session is deprecated. Please use tf.compat.v1.get_default_session instead.\n",
            "\n",
            "WARNING:tensorflow:From /usr/local/lib/python3.6/dist-packages/keras/backend/tensorflow_backend.py:197: The name tf.ConfigProto is deprecated. Please use tf.compat.v1.ConfigProto instead.\n",
            "\n",
            "WARNING:tensorflow:From /usr/local/lib/python3.6/dist-packages/keras/backend/tensorflow_backend.py:207: The name tf.global_variables is deprecated. Please use tf.compat.v1.global_variables instead.\n",
            "\n",
            "WARNING:tensorflow:From /usr/local/lib/python3.6/dist-packages/keras/backend/tensorflow_backend.py:216: The name tf.is_variable_initialized is deprecated. Please use tf.compat.v1.is_variable_initialized instead.\n",
            "\n",
            "WARNING:tensorflow:From /usr/local/lib/python3.6/dist-packages/keras/backend/tensorflow_backend.py:223: The name tf.variables_initializer is deprecated. Please use tf.compat.v1.variables_initializer instead.\n",
            "\n",
            "53327/53327 [==============================] - 370s 7ms/step - loss: 0.7661 - val_loss: 0.4335\n",
            "Epoch 2/20\n",
            "53327/53327 [==============================] - 357s 7ms/step - loss: 0.4408 - val_loss: 0.4361\n",
            "Epoch 3/20\n",
            "53327/53327 [==============================] - 353s 7ms/step - loss: 0.4405 - val_loss: 0.4344\n",
            "Epoch 4/20\n",
            "53327/53327 [==============================] - 349s 7ms/step - loss: 0.4396 - val_loss: 0.4315\n",
            "Epoch 5/20\n",
            "53327/53327 [==============================] - 350s 7ms/step - loss: 0.4385 - val_loss: 0.4342\n",
            "Epoch 6/20\n",
            "53327/53327 [==============================] - 352s 7ms/step - loss: 0.4371 - val_loss: 0.4336\n",
            "Epoch 7/20\n",
            "53327/53327 [==============================] - 351s 7ms/step - loss: 0.4356 - val_loss: 0.4337\n",
            "Epoch 8/20\n",
            "53327/53327 [==============================] - 351s 7ms/step - loss: 0.4326 - val_loss: 0.4355\n",
            "Epoch 9/20\n",
            "53327/53327 [==============================] - 351s 7ms/step - loss: 0.4292 - val_loss: 0.4377\n",
            "Epoch 10/20\n",
            "53327/53327 [==============================] - 349s 7ms/step - loss: 0.4263 - val_loss: 0.4410\n",
            "Epoch 11/20\n",
            "53327/53327 [==============================] - 351s 7ms/step - loss: 0.4232 - val_loss: 0.4409\n",
            "Epoch 12/20\n",
            "53327/53327 [==============================] - 351s 7ms/step - loss: 0.4213 - val_loss: 0.4429\n",
            "Epoch 13/20\n",
            "53327/53327 [==============================] - 352s 7ms/step - loss: 0.4184 - val_loss: 0.4460\n",
            "Epoch 14/20\n",
            "53327/53327 [==============================] - 348s 7ms/step - loss: 0.4159 - val_loss: 0.4457\n",
            "Epoch 15/20\n",
            "53327/53327 [==============================] - 346s 6ms/step - loss: 0.4131 - val_loss: 0.4477\n",
            "Epoch 16/20\n",
            "53327/53327 [==============================] - 346s 6ms/step - loss: 0.4102 - val_loss: 0.4490\n",
            "Epoch 17/20\n",
            "53327/53327 [==============================] - 349s 7ms/step - loss: 0.4076 - val_loss: 0.4504\n",
            "Epoch 18/20\n",
            "53327/53327 [==============================] - 349s 7ms/step - loss: 0.4037 - val_loss: 0.4525\n",
            "Epoch 19/20\n",
            "53327/53327 [==============================] - 348s 7ms/step - loss: 0.4008 - val_loss: 0.4554\n",
            "Epoch 20/20\n",
            "53327/53327 [==============================] - 347s 7ms/step - loss: 0.3981 - val_loss: 0.4570\n"
          ],
          "name": "stdout"
        }
      ]
    },
    {
      "cell_type": "markdown",
      "metadata": {
        "id": "DJA-x9bXJaIN",
        "colab_type": "text"
      },
      "source": [
        "Evaluation by RMSE and MAE"
      ]
    },
    {
      "cell_type": "code",
      "metadata": {
        "id": "O1XbiqGcU-6o",
        "colab_type": "code",
        "colab": {}
      },
      "source": [
        "siam_pred_time=time.time()\n",
        "siam_train_pred=model.predict([x_train1,x_train2])\n",
        "siam_val_pred=model.predict([x_val1, x_val2])\n",
        "siam_test_pred=model.predict([x_test1, x_test2])\n",
        "siam_pred_time=time.time()-siam_pred_time"
      ],
      "execution_count": 0,
      "outputs": []
    },
    {
      "cell_type": "code",
      "metadata": {
        "id": "m5qeZMGoVNTT",
        "colab_type": "code",
        "outputId": "044ff8e0-da51-49e6-c747-a8a089138510",
        "colab": {
          "base_uri": "https://localhost:8080/",
          "height": 122
        }
      },
      "source": [
        "from sklearn.metrics import mean_squared_error,mean_absolute_error\n",
        "from math import sqrt\n",
        "lstm_rmse_train = sqrt(mean_squared_error(y_train, siam_train_pred))\n",
        "lstm_rmse_val = sqrt(mean_squared_error(y_val, siam_val_pred))\n",
        "lstm_rmse_test = sqrt(mean_squared_error(y_test, siam_test_pred))\n",
        "lstm_mae_train=mean_absolute_error(y_train, siam_train_pred)\n",
        "lstm_mae_val=mean_absolute_error(y_val, siam_val_pred)\n",
        "lstm_mae_test=mean_absolute_error(y_test, siam_test_pred)\n",
        "print('******************LSTM***********************')\n",
        "print(\"TRAIN: RMSE: %f , MAE: %f\" % (lstm_rmse_train,lstm_mae_train))\n",
        "print(\"VALIDATE: RMSE: %f , MAE: %f\" % (lstm_rmse_val,lstm_mae_val))\n",
        "print(\"TEST: RMSE: %f , MAE: %f\" % (lstm_rmse_test,lstm_mae_test))\n",
        "print('taining time : ' + str(siam_time))\n",
        "print('prediction time : ' + str(siam_pred_time))"
      ],
      "execution_count": 16,
      "outputs": [
        {
          "output_type": "stream",
          "text": [
            "******************LSTM***********************\n",
            "TRAIN: RMSE: 0.501700 , MAE: 0.392473\n",
            "VALIDATE: RMSE: 0.569931 , MAE: 0.456952\n",
            "TEST: RMSE: 0.566717 , MAE: 0.458565\n",
            "taining time : 7021.600814580917\n",
            "prediction time : 332.92998361587524\n"
          ],
          "name": "stdout"
        }
      ]
    },
    {
      "cell_type": "code",
      "metadata": {
        "id": "lnbsq5xhOUzU",
        "colab_type": "code",
        "colab": {}
      },
      "source": [
        ""
      ],
      "execution_count": 0,
      "outputs": []
    },
    {
      "cell_type": "code",
      "metadata": {
        "id": "r8OIuCKAVXru",
        "colab_type": "code",
        "colab": {}
      },
      "source": [
        "from sklearn.pipeline import Pipeline\n",
        "from sklearn.feature_extraction.text import CountVectorizer\n",
        "from sklearn.ensemble import RandomForestClassifier\n",
        "from sklearn.linear_model import LinearRegression\n",
        " #dummy function for CountVectorizer\n",
        "def dummy_fun(doc):\n",
        "    return doc\n",
        "\n",
        "lr_model=Pipeline([('vect', CountVectorizer(analyzer='word',\n",
        "     tokenizer=dummy_fun,\n",
        "     preprocessor=dummy_fun,\n",
        "     token_pattern=None)),\n",
        "               ('clf', LinearRegression())\n",
        "              ])\n",
        "train['combined'] = train[['product_title', 'search_term']].apply(lambda x: ''.join(x), axis=1)"
      ],
      "execution_count": 0,
      "outputs": []
    },
    {
      "cell_type": "code",
      "metadata": {
        "id": "SBVSo24vWTLI",
        "colab_type": "code",
        "colab": {}
      },
      "source": [
        "def split_chars(df):\n",
        "  data=df.copy()\n",
        "  data['combined']=data['combined'].apply(lambda x: [char for char in x if char != ' '])\n",
        "  return data\n",
        "#train=split_chars(train)\n",
        "train['combined']=train['combined'].astype(str)\n",
        "lr_train, lr_test, y_train, y_test = train_test_split(train['combined'], y, test_size=0.2)\n",
        "lr_train, lr_val, y_train, y_val = train_test_split(lr_train, y_train, test_size=0.1)"
      ],
      "execution_count": 0,
      "outputs": []
    },
    {
      "cell_type": "code",
      "metadata": {
        "id": "Q3GjpEw3Wd91",
        "colab_type": "code",
        "colab": {}
      },
      "source": [
        "lr_time=time.time()\n",
        "lr_model.fit(lr_train,y_train)\n",
        "lr_time=time.time()-lr_time"
      ],
      "execution_count": 0,
      "outputs": []
    },
    {
      "cell_type": "code",
      "metadata": {
        "id": "jo5VXVLFWpCy",
        "colab_type": "code",
        "colab": {}
      },
      "source": [
        "lr_pred_time=time.time()\n",
        "lr_val_pred=lr_model.predict(lr_val)\n",
        "lr_test_pred=lr_model.predict(lr_test)\n",
        "lr_train_pred=lr_model.predict(lr_train)\n",
        "lr_pred_time=time.time()-lr_pred_time"
      ],
      "execution_count": 0,
      "outputs": []
    },
    {
      "cell_type": "code",
      "metadata": {
        "id": "Eg0zMEYeWqSK",
        "colab_type": "code",
        "outputId": "67128760-1a28-4de5-e06e-a7f025d9130f",
        "colab": {
          "base_uri": "https://localhost:8080/",
          "height": 122
        }
      },
      "source": [
        "from sklearn.metrics import mean_squared_error,mean_absolute_error\n",
        "from math import sqrt\n",
        "lr_rmse_train = sqrt(mean_squared_error(y_train, lr_train_pred))\n",
        "lr_rmse_val = sqrt(mean_squared_error(y_val, lr_val_pred))\n",
        "lr_rmse_test = sqrt(mean_squared_error(y_test, lr_test_pred))\n",
        "lr_mae_train=mean_absolute_error(y_train, lr_train_pred)\n",
        "lr_mae_val=mean_absolute_error(y_val, lr_val_pred)\n",
        "lr_mae_test=mean_absolute_error(y_test, lr_test_pred)\n",
        "print('******************naive linear regression***********************')\n",
        "print(\"TRAIN: RMSE: %f , MAE: %f\" % (lr_rmse_train,lr_mae_train))\n",
        "print(\"VALIDATE: RMSE: %f , MAE: %f\" % (lr_rmse_val,lr_mae_val))\n",
        "print(\"TEST: RMSE: %f , MAE: %f\" % (lr_rmse_test,lr_mae_test))\n",
        "print('test time : ' + str(lr_time))\n",
        "print('prediction time : ' + str(lr_pred_time))"
      ],
      "execution_count": 21,
      "outputs": [
        {
          "output_type": "stream",
          "text": [
            "******************naive linear regression***********************\n",
            "TRAIN: RMSE: 0.531310 , MAE: 0.435590\n",
            "VALIDATE: RMSE: 0.528879 , MAE: 0.432180\n",
            "TEST: RMSE: 0.530700 , MAE: 0.435868\n",
            "test time : 1.8427410125732422\n",
            "prediction time : 1.3176956176757812\n"
          ],
          "name": "stdout"
        }
      ]
    },
    {
      "cell_type": "markdown",
      "metadata": {
        "id": "5XhMA0OmLnUw",
        "colab_type": "text"
      },
      "source": [
        "#Features extraction"
      ]
    },
    {
      "cell_type": "code",
      "metadata": {
        "id": "KD6N6g1RWq6a",
        "colab_type": "code",
        "colab": {}
      },
      "source": [
        "feature_extract=model.layers[-3].output"
      ],
      "execution_count": 0,
      "outputs": []
    },
    {
      "cell_type": "code",
      "metadata": {
        "id": "EzhvVxlLXOMy",
        "colab_type": "code",
        "colab": {}
      },
      "source": [
        "newModel=Model([input_1, input_2], feature_extract)"
      ],
      "execution_count": 0,
      "outputs": []
    },
    {
      "cell_type": "code",
      "metadata": {
        "id": "fTn5oO2qXOqy",
        "colab_type": "code",
        "outputId": "b8eca7e7-bac2-4dd3-cc8c-e2e82d19d4e6",
        "colab": {
          "base_uri": "https://localhost:8080/",
          "height": 685
        }
      },
      "source": [
        "newModel.summary()"
      ],
      "execution_count": 24,
      "outputs": [
        {
          "output_type": "stream",
          "text": [
            "Model: \"model_2\"\n",
            "__________________________________________________________________________________________________\n",
            "Layer (type)                    Output Shape         Param #     Connected to                     \n",
            "==================================================================================================\n",
            "input_1 (InputLayer)            (None, 136)          0                                            \n",
            "__________________________________________________________________________________________________\n",
            "input_2 (InputLayer)            (None, 136)          0                                            \n",
            "__________________________________________________________________________________________________\n",
            "embedding_1 (Embedding)         (None, 136, 64)      1084672     input_1[0][0]                    \n",
            "__________________________________________________________________________________________________\n",
            "embedding_2 (Embedding)         (None, 136, 64)      444672      input_2[0][0]                    \n",
            "__________________________________________________________________________________________________\n",
            "lstm_1 (LSTM)                   (None, 136, 64)      33024       embedding_1[0][0]                \n",
            "                                                                 embedding_2[0][0]                \n",
            "__________________________________________________________________________________________________\n",
            "flatten_1 (Flatten)             (None, 8704)         0           lstm_1[0][0]                     \n",
            "__________________________________________________________________________________________________\n",
            "flatten_2 (Flatten)             (None, 8704)         0           lstm_1[1][0]                     \n",
            "__________________________________________________________________________________________________\n",
            "multiply_1 (Multiply)           (None, 8704)         0           flatten_1[0][0]                  \n",
            "                                                                 flatten_2[0][0]                  \n",
            "__________________________________________________________________________________________________\n",
            "add_1 (Add)                     (None, 8704)         0           flatten_1[0][0]                  \n",
            "                                                                 flatten_2[0][0]                  \n",
            "__________________________________________________________________________________________________\n",
            "subtract_1 (Subtract)           (None, 8704)         0           flatten_1[0][0]                  \n",
            "                                                                 flatten_2[0][0]                  \n",
            "__________________________________________________________________________________________________\n",
            "concatenate_1 (Concatenate)     (None, 26112)        0           multiply_1[0][0]                 \n",
            "                                                                 add_1[0][0]                      \n",
            "                                                                 subtract_1[0][0]                 \n",
            "__________________________________________________________________________________________________\n",
            "conc_layer (Dense)              (None, 100)          2611300     concatenate_1[0][0]              \n",
            "==================================================================================================\n",
            "Total params: 4,173,668\n",
            "Trainable params: 4,173,668\n",
            "Non-trainable params: 0\n",
            "__________________________________________________________________________________________________\n"
          ],
          "name": "stdout"
        }
      ]
    },
    {
      "cell_type": "code",
      "metadata": {
        "id": "HKUzaPRJXO8j",
        "colab_type": "code",
        "colab": {}
      },
      "source": [
        "fe_train=newModel.predict(([x_train1,x_train2]))\n",
        "fe_val=newModel.predict(([x_val1,x_val2]))\n",
        "fe_test=newModel.predict(([x_test1,x_test2]))"
      ],
      "execution_count": 0,
      "outputs": []
    },
    {
      "cell_type": "code",
      "metadata": {
        "id": "lHxNi_-VXdZW",
        "colab_type": "code",
        "outputId": "b28c3fff-72f6-496c-cec0-8ea464a81b38",
        "colab": {
          "base_uri": "https://localhost:8080/",
          "height": 34
        }
      },
      "source": [
        "fe_train.shape"
      ],
      "execution_count": 26,
      "outputs": [
        {
          "output_type": "execute_result",
          "data": {
            "text/plain": [
              "(53327, 100)"
            ]
          },
          "metadata": {
            "tags": []
          },
          "execution_count": 26
        }
      ]
    },
    {
      "cell_type": "markdown",
      "metadata": {
        "id": "CTko73JwLpvW",
        "colab_type": "text"
      },
      "source": [
        "# Xgboost model"
      ]
    },
    {
      "cell_type": "code",
      "metadata": {
        "id": "OjbKK_SMXdf8",
        "colab_type": "code",
        "colab": {}
      },
      "source": [
        "from sklearn.neighbors import KNeighborsRegressor\n",
        "import xgboost as xgb\n",
        "xg_reg = xgb.XGBRegressor(objective ='reg:linear', colsample_bytree = 0.3, learning_rate = 0.2,\n",
        "                alpha = 10, n_estimators = 50)\n",
        "knn_reg=KNeighborsRegressor(n_neighbors=3,weights='uniform')"
      ],
      "execution_count": 0,
      "outputs": []
    },
    {
      "cell_type": "code",
      "metadata": {
        "id": "LmDyRzuGXdlo",
        "colab_type": "code",
        "outputId": "cb866403-a237-484d-8b71-2fcea3c06288",
        "colab": {
          "base_uri": "https://localhost:8080/",
          "height": 90
        }
      },
      "source": [
        "xgb_train_time=time.time()\n",
        "xg_reg.fit(fe_train,y_train)\n",
        "xgb_train_time=time.time()-xgb_train_time"
      ],
      "execution_count": 28,
      "outputs": [
        {
          "output_type": "stream",
          "text": [
            "/usr/local/lib/python3.6/dist-packages/xgboost/core.py:587: FutureWarning: Series.base is deprecated and will be removed in a future version\n",
            "  if getattr(data, 'base', None) is not None and \\\n"
          ],
          "name": "stderr"
        },
        {
          "output_type": "stream",
          "text": [
            "[12:06:41] WARNING: /workspace/src/objective/regression_obj.cu:152: reg:linear is now deprecated in favor of reg:squarederror.\n"
          ],
          "name": "stdout"
        }
      ]
    },
    {
      "cell_type": "code",
      "metadata": {
        "id": "j6DKVdGMXPHx",
        "colab_type": "code",
        "colab": {}
      },
      "source": [
        "knn_train_time=time.time()\n",
        "knn_reg.fit(fe_train,y_train)\n",
        "knn_train_time=time.time()-knn_train_time"
      ],
      "execution_count": 0,
      "outputs": []
    },
    {
      "cell_type": "code",
      "metadata": {
        "id": "vX6hrg87Xtyi",
        "colab_type": "code",
        "colab": {}
      },
      "source": [
        "xgb_predict_time=time.time()\n",
        "xgb_train_pred=xg_reg.predict(fe_train)\n",
        "xgb_val_pred=xg_reg.predict(fe_val)\n",
        "xgb_test_pred=xg_reg.predict(fe_test)\n",
        "xgb_predict_time=time.time()-xgb_predict_time"
      ],
      "execution_count": 0,
      "outputs": []
    },
    {
      "cell_type": "markdown",
      "metadata": {
        "id": "0XHKsOHzL0ro",
        "colab_type": "text"
      },
      "source": [
        "# Knn model"
      ]
    },
    {
      "cell_type": "code",
      "metadata": {
        "id": "AHL7xqBFXtub",
        "colab_type": "code",
        "colab": {}
      },
      "source": [
        "knn_predict_time=time.time()\n",
        "knn_train_pred=knn_reg.predict(fe_train)\n",
        "knn_val_pred=knn_reg.predict(fe_val)\n",
        "knn_test_pred=knn_reg.predict(fe_test)\n",
        "knn_predict_time=time.time()-knn_predict_time"
      ],
      "execution_count": 0,
      "outputs": []
    },
    {
      "cell_type": "code",
      "metadata": {
        "id": "dLXn20J4YCcM",
        "colab_type": "code",
        "outputId": "3a6c4c63-09d8-486e-de59-ed720139b92b",
        "colab": {
          "base_uri": "https://localhost:8080/",
          "height": 122
        }
      },
      "source": [
        "xgb_rmse_train = sqrt(mean_squared_error(y_train, xgb_train_pred))\n",
        "xgb_rmse_val = sqrt(mean_squared_error(y_val, xgb_val_pred))\n",
        "xgb_rmse_test = sqrt(mean_squared_error(y_test, xgb_test_pred))\n",
        "xgb_mae_train=mean_absolute_error(y_train, xgb_train_pred)\n",
        "xgb_mae_val=mean_absolute_error(y_val, xgb_val_pred)\n",
        "xgb_mae_test=mean_absolute_error(y_test, xgb_test_pred)\n",
        "print('******************XGB***********************')\n",
        "print(\"TRAIN: RMSE: %f , MAE: %f\" % (xgb_rmse_train,xgb_mae_train))\n",
        "print(\"VALIDATE: RMSE: %f , MAE: %f\" % (xgb_rmse_val,xgb_mae_val))\n",
        "print(\"TEST: RMSE: %f , MAE: %f\" % (xgb_rmse_test,xgb_mae_test))\n",
        "print('training time : ' + str(xgb_train_time))\n",
        "print('prediction time : ' + str(xgb_predict_time))"
      ],
      "execution_count": 32,
      "outputs": [
        {
          "output_type": "stream",
          "text": [
            "******************XGB***********************\n",
            "TRAIN: RMSE: 0.530651 , MAE: 0.434991\n",
            "VALIDATE: RMSE: 0.532089 , MAE: 0.434957\n",
            "TEST: RMSE: 0.534054 , MAE: 0.439044\n",
            "training time : 4.433581113815308\n",
            "prediction time : 0.15568089485168457\n"
          ],
          "name": "stdout"
        }
      ]
    },
    {
      "cell_type": "code",
      "metadata": {
        "id": "eQgOakiNXtsr",
        "colab_type": "code",
        "outputId": "6505c4e5-df9d-4570-adcc-0ec216d10a6e",
        "colab": {
          "base_uri": "https://localhost:8080/",
          "height": 122
        }
      },
      "source": [
        "knn_rmse_train = sqrt(mean_squared_error(y_train, knn_train_pred))\n",
        "knn_rmse_val = sqrt(mean_squared_error(y_val, knn_val_pred))\n",
        "knn_rmse_test = sqrt(mean_squared_error(y_test, knn_test_pred))\n",
        "knn_mae_train=mean_absolute_error(y_train, knn_train_pred)\n",
        "knn_mae_val=mean_absolute_error(y_val, knn_val_pred)\n",
        "knn_mae_test=mean_absolute_error(y_test, knn_test_pred)\n",
        "print('******************KNN***********************')\n",
        "print(\"TRAIN: RMSE: %f , MAE: %f\" % (knn_rmse_train,knn_mae_train))\n",
        "print(\"VALIDATE: RMSE: %f , MAE: %f\" % (knn_rmse_val,knn_mae_val))\n",
        "print(\"TEST: RMSE: %f , MAE: %f\" % (knn_rmse_test,knn_mae_test))\n",
        "print('training time : ' + str(knn_train_time))\n",
        "print('prediction time : ' + str(knn_predict_time))"
      ],
      "execution_count": 33,
      "outputs": [
        {
          "output_type": "stream",
          "text": [
            "******************KNN***********************\n",
            "TRAIN: RMSE: 0.434913 , MAE: 0.347674\n",
            "VALIDATE: RMSE: 0.611450 , MAE: 0.492954\n",
            "TEST: RMSE: 0.615343 , MAE: 0.496404\n",
            "training time : 0.8067502975463867\n",
            "prediction time : 58.14159274101257\n"
          ],
          "name": "stdout"
        }
      ]
    },
    {
      "cell_type": "markdown",
      "metadata": {
        "id": "PRFO0Y5vMlpt",
        "colab_type": "text"
      },
      "source": [
        "# Compration between all of models"
      ]
    },
    {
      "cell_type": "code",
      "metadata": {
        "id": "0p5bwyktXtp-",
        "colab_type": "code",
        "outputId": "32772342-f59a-43cf-e563-446cc77e9112",
        "colab": {
          "base_uri": "https://localhost:8080/",
          "height": 582
        }
      },
      "source": [
        "import numpy as np\n",
        "import matplotlib.pyplot as plt\n",
        "indices = np.arange(4)\n",
        "clf_names=['linear regression','LSTM','xgboost','knn']\n",
        "training_time=[lr_time,siam_time,xgb_train_time,knn_train_time]\n",
        "test_time=[lr_pred_time,siam_pred_time,xgb_predict_time,knn_predict_time]\n",
        "rmse=[lr_rmse_test,lstm_rmse_test,xgb_rmse_test,knn_rmse_test]\n",
        "training_time = np.array(training_time) / np.max(training_time)\n",
        "test_time = np.array(test_time) / np.max(test_time)\n",
        "\n",
        "plt.figure(figsize=(12, 8))\n",
        "plt.title(\"Score\")\n",
        "plt.barh(indices, rmse, .2, label=\"rmse\", color='navy')\n",
        "plt.barh(indices + .3, training_time, .2, label=\"training time\",\n",
        "         color='c')\n",
        "plt.barh(indices + .6, test_time, .2, label=\"test time\", color='darkorange')\n",
        "plt.yticks(())\n",
        "plt.legend(loc='best')\n",
        "plt.subplots_adjust(left=.25)\n",
        "plt.subplots_adjust(top=.95)\n",
        "plt.subplots_adjust(bottom=.05)\n",
        "\n",
        "for i, c in zip(indices, clf_names):\n",
        "    plt.text(-.3, i, c)\n",
        "\n",
        "plt.show()"
      ],
      "execution_count": 34,
      "outputs": [
        {
          "output_type": "display_data",
          "data": {
            "image/png": "[encoded data removed]",
            "text/plain": [
              "<Figure size 864x576 with 1 Axes>"
            ]
          },
          "metadata": {
            "tags": []
          }
        }
      ]
    }
  ]
}